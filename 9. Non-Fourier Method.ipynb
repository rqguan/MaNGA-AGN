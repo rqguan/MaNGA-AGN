{
 "cells": [
  {
   "cell_type": "code",
   "execution_count": 1,
   "metadata": {},
   "outputs": [
    {
     "name": "stderr",
     "output_type": "stream",
     "text": [
      "\u001b[0;34m[INFO]: \u001b[0mNo release version set. Setting default to DR17\n",
      "\u001b[1;33m[WARNING]: \u001b[0m\u001b[0;39mpath /Users/runquanguan/sas/mangawork/manga/spectro/redux/v3_1_1/drpall-v3_1_1.fits cannot be found. Setting drpall to None.\u001b[0m \u001b[0;36m(MarvinUserWarning)\u001b[0m\n",
      "\u001b[1;33m[WARNING]: \u001b[0m\u001b[0;39mpath /Users/runquanguan/sas/mangawork/manga/spectro/analysis/v3_1_1/3.1.0/dapall-v3_1_1-3.1.0.fits cannot be found. Setting dapall to None.\u001b[0m \u001b[0;36m(MarvinUserWarning)\u001b[0m\n",
      "\u001b[1;33m[WARNING]: \u001b[0m\u001b[0;39mPassing field metadata as keyword arguments is deprecated. Use the explicit `metadata=...` argument instead. Additional metadata: {'location': 'view_args'}\u001b[0m \u001b[0;36m(RemovedInMarshmallow4Warning)\u001b[0m\n",
      "\u001b[1;33m[WARNING]: \u001b[0m\u001b[0;39mThe 'missing' argument to fields is deprecated. Use 'load_default' instead.\u001b[0m \u001b[0;36m(RemovedInMarshmallow4Warning)\u001b[0m\n"
     ]
    }
   ],
   "source": [
    "from __future__ import print_function\n",
    "import numpy as np\n",
    "from astropy.io import fits\n",
    "from marvin.tools import Maps\n",
    "from tqdm import tqdm\n",
    "\n",
    "import math as math\n",
    "import matplotlib.pyplot as plt\n",
    "import pylab as plb\n",
    "\n",
    "\n",
    "\n",
    "#from matplotlib.colors import ListedColormap, LinearSegmentedColormap\n",
    "import scipy as scipy\n",
    "#from scipy.fft import fft\n",
    "from scipy import ndimage\n",
    "from scipy.optimize import curve_fit\n",
    "import scipy.stats as stats\n",
    "import math\n",
    "\n",
    "import copy\n",
    "import Simpler_Classifier\n",
    "\n",
    "from importlib import reload \n",
    "\n",
    "from hyperopt import hp, fmin, rand, tpe, space_eval\n",
    "import torch\n",
    "from torch import nn\n"
   ]
  },
  {
   "cell_type": "code",
   "execution_count": 2,
   "metadata": {},
   "outputs": [],
   "source": [
    "# Gaussian fit method"
   ]
  },
  {
   "cell_type": "code",
   "execution_count": 3,
   "metadata": {},
   "outputs": [],
   "source": [
    "data = '8138-6101'\n",
    "#data = ‘8597-1901’ # 156 sample"
   ]
  },
  {
   "cell_type": "code",
   "execution_count": 4,
   "metadata": {},
   "outputs": [
    {
     "name": "stderr",
     "output_type": "stream",
     "text": [
      "\u001b[1;33m[WARNING]: \u001b[0m\u001b[0;39mCreating an ndarray from ragged nested sequences (which is a list-or-tuple of lists-or-tuples-or ndarrays with different lengths or shapes) is deprecated. If you meant to do this, you must specify 'dtype=object' when creating the ndarray.\u001b[0m \u001b[0;36m(VisibleDeprecationWarning)\u001b[0m\n"
     ]
    }
   ],
   "source": [
    "curve = Simpler_Classifier.simple_integ(data)"
   ]
  },
  {
   "cell_type": "code",
   "execution_count": 5,
   "metadata": {},
   "outputs": [],
   "source": [
    "def triangle_model_loss(data):\n",
    "    \n",
    "    curve = Simpler_Classifier.simple_integ(data)\n",
    "\n",
    "    def cone_model(h, left, right, cont):\n",
    "\n",
    "        if left+right >= 36 or left+right <= 2 or h <= 1:\n",
    "            model = np.linspace(0.1,0.1,36)\n",
    "\n",
    "        else:\n",
    "\n",
    "            wid = left + right\n",
    "            radius = h\n",
    "            w_res = math.floor((36-wid)/2)\n",
    "            r_var = np.linspace(0,radius,w_res)\n",
    "\n",
    "            y1 = []\n",
    "\n",
    "            circ_area = np.pi * (radius**2)\n",
    "            for i in r_var:\n",
    "\n",
    "                l = radius - i\n",
    "                angle_rad = np.arccos(l/radius)\n",
    "                w = np.sin(angle_rad)*radius\n",
    "                triangles = l*w\n",
    "\n",
    "                angle_res = (np.pi*2) - (angle_rad*2)\n",
    "                disc_area = (angle_res/(2*np.pi)) * circ_area\n",
    "\n",
    "                total_area = circ_area - (disc_area + triangles)\n",
    "                y1.append(total_area)\n",
    "\n",
    "\n",
    "            y2 = copy.deepcopy(y1)\n",
    "            y1.reverse()\n",
    "            y = y2 + y1[1:]\n",
    "\n",
    "            model = list(np.array(list(np.zeros(left)) + y + list(np.zeros(right))) + cont)\n",
    "\n",
    "        x = np.linspace(0,len(model),len(model))\n",
    "        y = model\n",
    "        x2 = np.linspace(0,len(model),36)\n",
    "        f_linear = scipy.interpolate.interp1d(x, y, kind='linear')\n",
    "        intp_model = f_linear(x2)\n",
    "\n",
    "        return intp_model\n",
    "\n",
    "    def loss_function_a(arg):\n",
    "\n",
    "        h, left, right, cont= arg\n",
    "        onecone = cone_model(h,left, right, cont)\n",
    "        loss = 0\n",
    "        for i in range(36):\n",
    "            loss = loss + abs(curve[i]-onecone[i])\n",
    "\n",
    "        total_loss = loss.item()\n",
    "\n",
    "        return total_loss\n",
    "\n",
    "    def loss_function_b(arg):\n",
    "\n",
    "        h, left, right, cont= arg\n",
    "        onecone = cone_model(h,left, right, cont)\n",
    "        loss = 0\n",
    "        for i in range(36):\n",
    "            loss = loss + abs(curve[i+36]-onecone[i])\n",
    "\n",
    "        total_loss = loss.item()\n",
    "\n",
    "        return total_loss\n",
    "\n",
    "    space = [hp.uniform('h',0, 100), hp.randint('left',35), hp.randint('right',35),hp.uniform('cont',0, 3)]\n",
    "    best_a = fmin(loss_function_a, space, algo=tpe.suggest, max_evals = 2000)\n",
    "    best_b = fmin(loss_function_b, space, algo=tpe.suggest, max_evals = 2000)\n",
    "    total_loss = loss_function_a(space_eval(space, best_a))+loss_function_b(space_eval(space, best_b))\n",
    "    return total_loss"
   ]
  },
  {
   "cell_type": "code",
   "execution_count": 61,
   "metadata": {},
   "outputs": [],
   "source": [
    "def norm_model_loss(data):\n",
    "    \n",
    "    curve = Simpler_Classifier.simple_integ(data)\n",
    "    \n",
    "    def cone_norm_model(mu, variance, scale, contin):\n",
    "        x = np.linspace(0, 36, 36)\n",
    "        sigma = math.sqrt(variance)\n",
    "        cone = stats.norm.pdf(x, mu, sigma)*scale\n",
    "        onecone = cone+contin\n",
    "        return onecone\n",
    "\n",
    "\n",
    "    def loss_function_c(arg):\n",
    "\n",
    "        mu, variance, scale, contin= arg\n",
    "        onecone = cone_norm_model(mu, variance, scale, contin)\n",
    "        loss = 0\n",
    "        for i in range(36):\n",
    "            loss = loss + abs(curve[i]-onecone[i])\n",
    "\n",
    "        total_loss = loss.item()\n",
    "\n",
    "        return total_loss\n",
    "\n",
    "    def loss_function_d(arg):\n",
    "\n",
    "        mu, variance, scale, contin= arg\n",
    "        onecone = cone_norm_model(mu, variance, scale, contin)\n",
    "        loss = 0\n",
    "        for i in range(36):\n",
    "            loss = loss + abs(curve[i+36]-onecone[i])\n",
    "\n",
    "        total_loss = loss.item()\n",
    "\n",
    "        return total_loss\n",
    "\n",
    "    space_norm = [hp.uniform('mu',0, 36), hp.uniform('variance',0, 36), hp.uniform('scale',0, 100), hp.uniform('contin',0, 10)]\n",
    "    best_norm_c = fmin(loss_function_c, space_norm, algo=tpe.suggest, max_evals = 2000)\n",
    "    best_norm_d = fmin(loss_function_d, space_norm, algo=tpe.suggest, max_evals = 2000)\n",
    "    total_loss = loss_function_c(space_eval(space_norm, best_norm_c))+loss_function_d(space_eval(space_norm, best_norm_d))\n",
    "    return total_loss"
   ]
  },
  {
   "cell_type": "code",
   "execution_count": 72,
   "metadata": {},
   "outputs": [
    {
     "name": "stdout",
     "output_type": "stream",
     "text": [
      "100%|██████████| 2000/2000 [00:29<00:00, 68.88trial/s, best loss: 42.40263804404246] \n",
      "100%|██████████| 2000/2000 [00:29<00:00, 68.15trial/s, best loss: 27.110016675435965]\n"
     ]
    }
   ],
   "source": []
  }
 ],
 "metadata": {
  "kernelspec": {
   "display_name": "Python 3",
   "language": "python",
   "name": "python3"
  },
  "language_info": {
   "codemirror_mode": {
    "name": "ipython",
    "version": 3
   },
   "file_extension": ".py",
   "mimetype": "text/x-python",
   "name": "python",
   "nbconvert_exporter": "python",
   "pygments_lexer": "ipython3",
   "version": "3.7.3"
  }
 },
 "nbformat": 4,
 "nbformat_minor": 2
}

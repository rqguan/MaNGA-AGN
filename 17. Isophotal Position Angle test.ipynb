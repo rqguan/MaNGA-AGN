{
 "cells": [
  {
   "cell_type": "code",
   "execution_count": 80,
   "metadata": {},
   "outputs": [],
   "source": [
    "import numpy as np\n",
    "from astropy.io import fits\n",
    "from marvin.tools import Maps\n",
    "from tqdm import tqdm\n",
    "import Bicone_Classifier\n",
    "import multiprocessing as mp\n",
    "import copy\n",
    "import matplotlib.pyplot as plt\n",
    "from marvin.utils.general.images import showImage\n",
    "from marvin.tools.image import Image\n",
    "\n",
    "from scipy import ndimage"
   ]
  },
  {
   "cell_type": "code",
   "execution_count": 3,
   "metadata": {},
   "outputs": [],
   "source": [
    "HEADER_PATH = '/Users/runquanguan/Documents/dapall-v3_1_1-3.1.0.fits'\n",
    "hdul = fits.open(HEADER_PATH)\n",
    "hdu = hdul[1].data\n",
    "plateifu = hdu['PLATEIFU']\n",
    "petro_angle = hdu['NSA_ELPETRO_PHI']\n",
    "sersic_angle = hdu['NSA_SERSIC_PHI']"
   ]
  },
  {
   "cell_type": "code",
   "execution_count": 49,
   "metadata": {},
   "outputs": [
    {
     "name": "stderr",
     "output_type": "stream",
     "text": [
      "\u001b[1;33m[WARNING]: \u001b[0m\u001b[0;39munclosed file <_io.FileIO name='/Users/runquanguan/Documents/dapall-v3_1_1-3.1.0.fits' mode='rb' closefd=True>\u001b[0m \u001b[0;36m(ResourceWarning)\u001b[0m\n"
     ]
    }
   ],
   "source": [
    "#data = '9090-1901'\n",
    "\n",
    "HEADER_PATH = '/Users/runquanguan/Documents/dapall-v3_1_1-3.1.0.fits'\n",
    "hdul = fits.open(HEADER_PATH)\n",
    "hdu = hdul[1].data\n",
    "plateifu = hdu['PLATEIFU']\n",
    "petro_angle = hdu['NSA_ELPETRO_PHI']\n",
    "sersic_angle = hdu['NSA_SERSIC_PHI']\n",
    "\n",
    "def plot_major_axis(data):\n",
    "    \n",
    "\n",
    "\n",
    "    dapall_index = list(plateifu).index(data)\n",
    "    p_slope = np.tan(petro_angle[dapall_index])\n",
    "    s_slope = np.tan(sersic_angle[dapall_index])\n",
    "\n",
    "    maps = Maps(data, bintype='SPX', template='MILESHC-MASTARSSP')\n",
    "    st_vel = maps.stellar_vel.value\n",
    "    oiii_ew = maps.emline_gew_oiii_5008.value\n",
    "    \n",
    "    \n",
    "    \n",
    "    # point-slope form\n",
    "    slope = p_slope\n",
    "    x_1 = st_vel.shape[0]/2\n",
    "    y_1 = st_vel.shape[1]/2\n",
    "    x = np.linspace(0, st_vel.shape[0], st_vel.shape[0])\n",
    "    y = (slope*(x-x_1))+y_1\n",
    "\n",
    "\n",
    "    \n",
    "    plt.figure()\n",
    "    plt.plot(y, color = 'Red')\n",
    "    plt.imshow(st_vel, cmap='viridis')\n",
    "    plt.title(r'$V_{stellar}$')\n",
    "    plt.gca().invert_yaxis()\n",
    "    plt.colorbar(orientation='vertical',label = r'$km/s$')\n",
    "    plt.savefig(data+'_st_vel.png')\n",
    "\n",
    "    plt.figure()\n",
    "    plt.plot(y, color = 'Red')\n",
    "    plt.imshow(oiii_ew, cmap='viridis')\n",
    "    plt.title(r'$EW_{OIII}$')\n",
    "    plt.gca().invert_yaxis()\n",
    "    plt.colorbar(orientation='vertical',label = r'$log(\\AA)$')\n",
    "    plt.savefig(data+'_oiii.png')\n",
    "\n"
   ]
  },
  {
   "cell_type": "code",
   "execution_count": 50,
   "metadata": {},
   "outputs": [
    {
     "name": "stderr",
     "output_type": "stream",
     "text": [
      "  6%|▋         | 11/173 [00:26<07:27,  2.76s/it]\u001b[1;33m[WARNING]: \u001b[0m\u001b[0;39mMore than 20 figures have been opened. Figures created through the pyplot interface (`matplotlib.pyplot.figure`) are retained until explicitly closed and may consume too much memory. (To control this warning, see the rcParam `figure.max_open_warning`).\u001b[0m \u001b[0;36m(RuntimeWarning)\u001b[0m\n",
      "  9%|▊         | 15/173 [00:39<08:11,  3.11s/it]\u001b[1;33m[WARNING]: \u001b[0m\u001b[0;39munclosed file <_io.FileIO name='/Users/runquanguan/Documents/dapall-v3_1_1-3.1.0.fits' mode='rb' closefd=True>\u001b[0m \u001b[0;36m(ResourceWarning)\u001b[0m\n",
      "100%|██████████| 173/173 [09:42<00:00,  3.37s/it]\n"
     ]
    }
   ],
   "source": [
    "SAMPLE_PATH = '/Users/runquanguan/Documents/bicone_training_set.fits'\n",
    "hdul_2 = fits.open(SAMPLE_PATH)\n",
    "hdu_2 = hdul_2[1].data\n",
    "plateifu_2 = hdu_2['PLATEIFU']\n",
    "\n",
    "\n",
    "for data in tqdm(plateifu_2):\n",
    "    if len(data) >= 4:\n",
    "        plot_major_axis(data)\n",
    "    else:\n",
    "        pass"
   ]
  },
  {
   "cell_type": "code",
   "execution_count": 112,
   "metadata": {},
   "outputs": [],
   "source": [
    "def plot_major_axis(data):\n",
    "    \n",
    "\n",
    "    dapall_index = list(plateifu).index(data)\n",
    "    p_slope = np.tan(petro_angle[dapall_index])\n",
    "    s_slope = np.tan(sersic_angle[dapall_index])\n",
    "\n",
    "    maps = Maps(data, bintype='SPX', template='MILESHC-MASTARSSP')\n",
    "    st_vel = maps.stellar_vel.value\n",
    "    oiii_ew = maps.emline_gew_oiii_5008.value\n",
    "    phi = maps.spx_ellcoo_elliptical_azimuth.value\n",
    "    r_re = maps.spx_ellcoo_r_re.value\n",
    "    \n",
    "    axis_indicat = np.zeros(phi.shape)\n",
    "\n",
    "    for i in range(phi.shape[0]):\n",
    "        for j in range(phi.shape[1]):\n",
    "            if phi[i][j] >= 88 and phi[i][j] <= 92:\n",
    "                axis_indicat[i][j] = 1\n",
    "            elif phi[i][j] >= 268 and phi[i][j] <= 272:\n",
    "                axis_indicat[i][j] = 1\n",
    "            elif r_re[i][j] >= 0.9 and r_re[i][j] <=1.1:\n",
    "                axis_indicat[i][j] = 1\n",
    "            else:\n",
    "                pass\n",
    "            \n",
    "            \n",
    "            \n",
    "            \n",
    "    plt.figure()\n",
    "    plt.imshow(st_vel, cmap='viridis')\n",
    "    plt.imshow(axis_indicat, 'Greys', alpha = 0.3)\n",
    "    plt.title(r'$V_{stellar}$')\n",
    "    plt.gca().invert_yaxis()\n",
    "    plt.colorbar(orientation='vertical',label = r'$km/s$')\n",
    "    plt.savefig(data+'.png')\n",
    "    \n"
   ]
  },
  {
   "cell_type": "code",
   "execution_count": 2,
   "metadata": {},
   "outputs": [],
   "source": [
    "def marvin_major_axis(data):\n",
    "    \n",
    "    dapall_index = list(plateifu).index(data)\n",
    "    p_slope = np.tan(petro_angle[dapall_index])\n",
    "    s_slope = np.tan(sersic_angle[dapall_index])\n",
    "\n",
    "    maps = Maps(data, bintype='SPX', template='MILESHC-MASTARSSP')\n",
    "    st_vel = maps.stellar_vel\n",
    "    #oiii_ew = maps.emline_gew_oiii_5008.value\n",
    "    phi = maps.spx_ellcoo_elliptical_azimuth.value\n",
    "    r_re = maps.spx_ellcoo_r_re.value\n",
    "\n",
    "    axis_indicat = np.zeros(phi.shape)\n",
    "\n",
    "    for i in range(phi.shape[0]):\n",
    "        for j in range(phi.shape[1]):\n",
    "            if phi[i][j] >= 88 and phi[i][j] <= 92:\n",
    "                axis_indicat[i][j] = 1\n",
    "            elif phi[i][j] >= 268 and phi[i][j] <= 272:\n",
    "                axis_indicat[i][j] = 1\n",
    "            elif r_re[i][j] >= 0.9 and r_re[i][j] <=1.1:\n",
    "                axis_indicat[i][j] = 1\n",
    "            else:\n",
    "                pass\n",
    "\n",
    "\n",
    "    st_vel.plot(snr_min = None)\n",
    "    plt.imshow(axis_indicat, 'Greys', alpha = 0.3)\n",
    "    plt.savefig(data+'.png')"
   ]
  },
  {
   "cell_type": "markdown",
   "metadata": {},
   "source": [
    "## Multi-processing\n",
    "\n",
    "\n",
    "if __name__ == '__main__':\n",
    "    pool = mp.Pool(processes=4)\n",
    "\n",
    "    pool.imap_unordered(marvin_major_axis, plateifu_2):\n",
    "        results.append(result)\n",
    "       \n",
    "    print(results)"
   ]
  },
  {
   "cell_type": "code",
   "execution_count": 5,
   "metadata": {},
   "outputs": [
    {
     "name": "stderr",
     "output_type": "stream",
     "text": [
      "\u001b[1;33m[WARNING]: \u001b[0m\u001b[0;39munclosed file <_io.FileIO name='/Users/runquanguan/Documents/bicone_training_set.fits' mode='rb' closefd=True>\u001b[0m \u001b[0;36m(ResourceWarning)\u001b[0m\n",
      "\u001b[1;33m[WARNING]: \u001b[0m\u001b[0;39mMore than 20 figures have been opened. Figures created through the pyplot interface (`matplotlib.pyplot.figure`) are retained until explicitly closed and may consume too much memory. (To control this warning, see the rcParam `figure.max_open_warning`).\u001b[0m \u001b[0;36m(RuntimeWarning)\u001b[0m\n"
     ]
    }
   ],
   "source": [
    "## Plotting\n",
    "\n",
    "SAMPLE_PATH = '/Users/runquanguan/Documents/bicone_training_set.fits'\n",
    "hdul_2 = fits.open(SAMPLE_PATH)\n",
    "hdu_2 = hdul_2[1].data\n",
    "plateifu_2 = hdu_2['PLATEIFU']\n",
    "\n",
    "\n",
    "for i in plateifu_2:\n",
    "    marvin_major_axis(i)"
   ]
  },
  {
   "cell_type": "markdown",
   "metadata": {},
   "source": [
    "# Ploting axis over image"
   ]
  },
  {
   "cell_type": "code",
   "execution_count": 145,
   "metadata": {},
   "outputs": [],
   "source": [
    "def image_major_axis(data):\n",
    "\n",
    "    dapall_index = list(plateifu).index(data)\n",
    "    p_slope = np.tan(petro_angle[dapall_index])\n",
    "    s_slope = np.tan(sersic_angle[dapall_index])\n",
    "\n",
    "    maps = Maps(data, bintype='SPX', template='MILESHC-MASTARSSP')\n",
    "    st_vel = maps.stellar_vel\n",
    "    #oiii_ew = maps.emline_gew_oiii_5008.value\n",
    "    phi = maps.spx_ellcoo_elliptical_azimuth.value\n",
    "    r_re = maps.spx_ellcoo_r_re.value\n",
    "\n",
    "    axis_indicat = np.zeros(phi.shape)\n",
    "\n",
    "    for i in range(phi.shape[0]):\n",
    "        for j in range(phi.shape[1]):\n",
    "            if phi[i][j] >= 88 and phi[i][j] <= 92:\n",
    "                axis_indicat[i][j] = 100\n",
    "            elif phi[i][j] >= 268 and phi[i][j] <= 272:\n",
    "                axis_indicat[i][j] = 100\n",
    "            elif r_re[i][j] >= 0.9 and r_re[i][j] <=1.1:\n",
    "                axis_indicat[i][j] = 100\n",
    "            else:\n",
    "                pass\n",
    "            \n",
    "    im = Image(data)\n",
    "\n",
    "    spaxel_len = float(str(im.wcs)[108:114]) * 2\n",
    "    factor = spaxel_len / axis_indicat.shape[0]\n",
    "\n",
    "    large_mask = ndimage.zoom(axis_indicat, factor, order=0)\n",
    "    # large_mask[large_mask > 0] = 1\n",
    "\n",
    "\n",
    "    mask = np.flipud(large_mask)\n",
    "    im = showImage(plateifu = data)\n",
    "    masked = np.ma.masked_where(mask == 0, mask)\n",
    "\n",
    "    plt.imshow(im, interpolation='none')\n",
    "    plt.imshow(masked, 'autumn', interpolation='none', alpha=0.7)\n",
    "    plt.savefig(data+'_image.png')\n"
   ]
  },
  {
   "cell_type": "code",
   "execution_count": 146,
   "metadata": {},
   "outputs": [
    {
     "name": "stderr",
     "output_type": "stream",
     "text": [
      "\u001b[1;33m[WARNING]: \u001b[0m\u001b[0;39munclosed file <_io.FileIO name='/Users/runquanguan/Documents/bicone_training_set.fits' mode='rb' closefd=True>\u001b[0m \u001b[0;36m(ResourceWarning)\u001b[0m\n",
      "\u001b[1;33m[WARNING]: \u001b[0m\u001b[0;39msubprocess 12895 is still running\u001b[0m \u001b[0;36m(ResourceWarning)\u001b[0m\n",
      "\u001b[1;33m[WARNING]: \u001b[0m\u001b[0;39msubprocess 12901 is still running\u001b[0m \u001b[0;36m(ResourceWarning)\u001b[0m\n"
     ]
    },
    {
     "ename": "MarvinError",
     "evalue": "something went wrong. Error is: Failed to parse input name 7960-6103: Cannot release a lock that's no longer owned.\nYou can submit this error to Marvin GitHub Issues (https://github.com/sdss/marvin/issues/new).\nFill out a subject and some text describing the error that just occurred.\nIf able, copy and paste the full traceback information into the issue as well.",
     "output_type": "error",
     "traceback": [
      "\u001b[0;31m---------------------------------------------------------------------------\u001b[0m",
      "\u001b[0;31mMarvinError\u001b[0m                               Traceback (most recent call last)",
      "\u001b[0;32m<ipython-input-146-c724d4785f54>\u001b[0m in \u001b[0;36m<module>\u001b[0;34m\u001b[0m\n\u001b[1;32m      8\u001b[0m \u001b[0;34m\u001b[0m\u001b[0m\n\u001b[1;32m      9\u001b[0m \u001b[0;32mfor\u001b[0m \u001b[0mi\u001b[0m \u001b[0;32min\u001b[0m \u001b[0mplateifu_2\u001b[0m\u001b[0;34m:\u001b[0m\u001b[0;34m\u001b[0m\u001b[0;34m\u001b[0m\u001b[0m\n\u001b[0;32m---> 10\u001b[0;31m     \u001b[0mimage_major_axis\u001b[0m\u001b[0;34m(\u001b[0m\u001b[0mi\u001b[0m\u001b[0;34m)\u001b[0m\u001b[0;34m\u001b[0m\u001b[0;34m\u001b[0m\u001b[0m\n\u001b[0m",
      "\u001b[0;32m<ipython-input-145-5a2737a0c72d>\u001b[0m in \u001b[0;36mimage_major_axis\u001b[0;34m(data)\u001b[0m\n\u001b[1;32m      6\u001b[0m \u001b[0;34m\u001b[0m\u001b[0m\n\u001b[1;32m      7\u001b[0m     \u001b[0mmaps\u001b[0m \u001b[0;34m=\u001b[0m \u001b[0mMaps\u001b[0m\u001b[0;34m(\u001b[0m\u001b[0mdata\u001b[0m\u001b[0;34m,\u001b[0m \u001b[0mbintype\u001b[0m\u001b[0;34m=\u001b[0m\u001b[0;34m'SPX'\u001b[0m\u001b[0;34m,\u001b[0m \u001b[0mtemplate\u001b[0m\u001b[0;34m=\u001b[0m\u001b[0;34m'MILESHC-MASTARSSP'\u001b[0m\u001b[0;34m)\u001b[0m\u001b[0;34m\u001b[0m\u001b[0;34m\u001b[0m\u001b[0m\n\u001b[0;32m----> 8\u001b[0;31m     \u001b[0mst_vel\u001b[0m \u001b[0;34m=\u001b[0m \u001b[0mmaps\u001b[0m\u001b[0;34m.\u001b[0m\u001b[0mstellar_vel\u001b[0m\u001b[0;34m\u001b[0m\u001b[0;34m\u001b[0m\u001b[0m\n\u001b[0m\u001b[1;32m      9\u001b[0m     \u001b[0;31m#oiii_ew = maps.emline_gew_oiii_5008.value\u001b[0m\u001b[0;34m\u001b[0m\u001b[0;34m\u001b[0m\u001b[0;34m\u001b[0m\u001b[0m\n\u001b[1;32m     10\u001b[0m     \u001b[0mphi\u001b[0m \u001b[0;34m=\u001b[0m \u001b[0mmaps\u001b[0m\u001b[0;34m.\u001b[0m\u001b[0mspx_ellcoo_elliptical_azimuth\u001b[0m\u001b[0;34m.\u001b[0m\u001b[0mvalue\u001b[0m\u001b[0;34m\u001b[0m\u001b[0;34m\u001b[0m\u001b[0m\n",
      "\u001b[0;32m~/anaconda3/lib/python3.7/site-packages/marvin/tools/maps.py\u001b[0m in \u001b[0;36m__getattr__\u001b[0;34m(self, value)\u001b[0m\n\u001b[1;32m    138\u001b[0m \u001b[0;34m\u001b[0m\u001b[0m\n\u001b[1;32m    139\u001b[0m         \u001b[0;32mif\u001b[0m \u001b[0misinstance\u001b[0m\u001b[0;34m(\u001b[0m\u001b[0mvalue\u001b[0m\u001b[0;34m,\u001b[0m \u001b[0msix\u001b[0m\u001b[0;34m.\u001b[0m\u001b[0mstring_types\u001b[0m\u001b[0;34m)\u001b[0m \u001b[0;32mand\u001b[0m \u001b[0mvalue\u001b[0m \u001b[0;32min\u001b[0m \u001b[0mself\u001b[0m\u001b[0;34m.\u001b[0m\u001b[0mdatamodel\u001b[0m\u001b[0;34m:\u001b[0m\u001b[0;34m\u001b[0m\u001b[0;34m\u001b[0m\u001b[0m\n\u001b[0;32m--> 140\u001b[0;31m             \u001b[0;32mreturn\u001b[0m \u001b[0mself\u001b[0m\u001b[0;34m.\u001b[0m\u001b[0mgetMap\u001b[0m\u001b[0;34m(\u001b[0m\u001b[0mvalue\u001b[0m\u001b[0;34m)\u001b[0m\u001b[0;34m\u001b[0m\u001b[0;34m\u001b[0m\u001b[0m\n\u001b[0m\u001b[1;32m    141\u001b[0m \u001b[0;34m\u001b[0m\u001b[0m\n\u001b[1;32m    142\u001b[0m         \u001b[0;32mreturn\u001b[0m \u001b[0msuper\u001b[0m\u001b[0;34m(\u001b[0m\u001b[0mMaps\u001b[0m\u001b[0;34m,\u001b[0m \u001b[0mself\u001b[0m\u001b[0;34m)\u001b[0m\u001b[0;34m.\u001b[0m\u001b[0m__getattribute__\u001b[0m\u001b[0;34m(\u001b[0m\u001b[0mvalue\u001b[0m\u001b[0;34m)\u001b[0m\u001b[0;34m\u001b[0m\u001b[0;34m\u001b[0m\u001b[0m\n",
      "\u001b[0;32m~/anaconda3/lib/python3.7/site-packages/marvin/tools/maps.py\u001b[0m in \u001b[0;36mgetMap\u001b[0;34m(self, property_name, channel, exact)\u001b[0m\n\u001b[1;32m    632\u001b[0m                                                      'Please use MPL-7.')\n\u001b[1;32m    633\u001b[0m \u001b[0;34m\u001b[0m\u001b[0m\n\u001b[0;32m--> 634\u001b[0;31m         \u001b[0;32mreturn\u001b[0m \u001b[0mmarvin\u001b[0m\u001b[0;34m.\u001b[0m\u001b[0mtools\u001b[0m\u001b[0;34m.\u001b[0m\u001b[0mquantities\u001b[0m\u001b[0;34m.\u001b[0m\u001b[0mMap\u001b[0m\u001b[0;34m.\u001b[0m\u001b[0mfrom_maps\u001b[0m\u001b[0;34m(\u001b[0m\u001b[0mself\u001b[0m\u001b[0;34m,\u001b[0m \u001b[0mbest\u001b[0m\u001b[0;34m)\u001b[0m\u001b[0;34m\u001b[0m\u001b[0;34m\u001b[0m\u001b[0m\n\u001b[0m\u001b[1;32m    635\u001b[0m \u001b[0;34m\u001b[0m\u001b[0m\n\u001b[1;32m    636\u001b[0m     \u001b[0;32mdef\u001b[0m \u001b[0mgetMapRatio\u001b[0m\u001b[0;34m(\u001b[0m\u001b[0mself\u001b[0m\u001b[0;34m,\u001b[0m \u001b[0mproperty_name\u001b[0m\u001b[0;34m,\u001b[0m \u001b[0mchannel_1\u001b[0m\u001b[0;34m,\u001b[0m \u001b[0mchannel_2\u001b[0m\u001b[0;34m)\u001b[0m\u001b[0;34m:\u001b[0m\u001b[0;34m\u001b[0m\u001b[0;34m\u001b[0m\u001b[0m\n",
      "\u001b[0;32m~/anaconda3/lib/python3.7/site-packages/marvin/tools/quantities/map.py\u001b[0m in \u001b[0;36mfrom_maps\u001b[0;34m(cls, maps, prop, dtype, copy)\u001b[0m\n\u001b[1;32m    222\u001b[0m             \u001b[0mvalue\u001b[0m\u001b[0;34m,\u001b[0m \u001b[0mivar\u001b[0m\u001b[0;34m,\u001b[0m \u001b[0mmask\u001b[0m \u001b[0;34m=\u001b[0m \u001b[0mcls\u001b[0m\u001b[0;34m.\u001b[0m\u001b[0m_get_map_from_db\u001b[0m\u001b[0;34m(\u001b[0m\u001b[0mmaps\u001b[0m\u001b[0;34m,\u001b[0m \u001b[0mprop\u001b[0m\u001b[0;34m)\u001b[0m\u001b[0;34m\u001b[0m\u001b[0;34m\u001b[0m\u001b[0m\n\u001b[1;32m    223\u001b[0m         \u001b[0;32melif\u001b[0m \u001b[0mmaps\u001b[0m\u001b[0;34m.\u001b[0m\u001b[0mdata_origin\u001b[0m \u001b[0;34m==\u001b[0m \u001b[0;34m'api'\u001b[0m\u001b[0;34m:\u001b[0m\u001b[0;34m\u001b[0m\u001b[0;34m\u001b[0m\u001b[0m\n\u001b[0;32m--> 224\u001b[0;31m             \u001b[0mvalue\u001b[0m\u001b[0;34m,\u001b[0m \u001b[0mivar\u001b[0m\u001b[0;34m,\u001b[0m \u001b[0mmask\u001b[0m \u001b[0;34m=\u001b[0m \u001b[0mcls\u001b[0m\u001b[0;34m.\u001b[0m\u001b[0m_get_map_from_api\u001b[0m\u001b[0;34m(\u001b[0m\u001b[0mmaps\u001b[0m\u001b[0;34m,\u001b[0m \u001b[0mprop\u001b[0m\u001b[0;34m)\u001b[0m\u001b[0;34m\u001b[0m\u001b[0;34m\u001b[0m\u001b[0m\n\u001b[0m\u001b[1;32m    225\u001b[0m \u001b[0;34m\u001b[0m\u001b[0m\n\u001b[1;32m    226\u001b[0m         \u001b[0;31m# Gets the binid array for this property.\u001b[0m\u001b[0;34m\u001b[0m\u001b[0;34m\u001b[0m\u001b[0;34m\u001b[0m\u001b[0m\n",
      "\u001b[0;32m~/anaconda3/lib/python3.7/site-packages/marvin/tools/quantities/map.py\u001b[0m in \u001b[0;36m_get_map_from_api\u001b[0;34m(maps, prop)\u001b[0m\n\u001b[1;32m    329\u001b[0m         \u001b[0;32mif\u001b[0m \u001b[0mdata\u001b[0m \u001b[0;32mis\u001b[0m \u001b[0;32mNone\u001b[0m\u001b[0;34m:\u001b[0m\u001b[0;34m\u001b[0m\u001b[0;34m\u001b[0m\u001b[0m\n\u001b[1;32m    330\u001b[0m             raise marvin.core.exceptions.MarvinError(\n\u001b[0;32m--> 331\u001b[0;31m                 'something went wrong. Error is: {0}'.format(response.results['error']))\n\u001b[0m\u001b[1;32m    332\u001b[0m \u001b[0;34m\u001b[0m\u001b[0m\n\u001b[1;32m    333\u001b[0m         \u001b[0mvalue\u001b[0m \u001b[0;34m=\u001b[0m \u001b[0mnp\u001b[0m\u001b[0;34m.\u001b[0m\u001b[0marray\u001b[0m\u001b[0;34m(\u001b[0m\u001b[0mdata\u001b[0m\u001b[0;34m[\u001b[0m\u001b[0;34m'value'\u001b[0m\u001b[0;34m]\u001b[0m\u001b[0;34m)\u001b[0m\u001b[0;34m\u001b[0m\u001b[0;34m\u001b[0m\u001b[0m\n",
      "\u001b[0;31mMarvinError\u001b[0m: something went wrong. Error is: Failed to parse input name 7960-6103: Cannot release a lock that's no longer owned.\nYou can submit this error to Marvin GitHub Issues (https://github.com/sdss/marvin/issues/new).\nFill out a subject and some text describing the error that just occurred.\nIf able, copy and paste the full traceback information into the issue as well."
     ]
    }
   ],
   "source": [
    "## Plotting\n",
    "\n",
    "SAMPLE_PATH = '/Users/runquanguan/Documents/bicone_training_set.fits'\n",
    "hdul_2 = fits.open(SAMPLE_PATH)\n",
    "hdu_2 = hdul_2[1].data\n",
    "plateifu_2 = hdu_2['PLATEIFU']\n",
    "\n",
    "\n",
    "for i in plateifu_2:\n",
    "    image_major_axis(i)"
   ]
  },
  {
   "cell_type": "code",
   "execution_count": null,
   "metadata": {},
   "outputs": [],
   "source": []
  }
 ],
 "metadata": {
  "kernelspec": {
   "display_name": "Python 3",
   "language": "python",
   "name": "python3"
  },
  "language_info": {
   "codemirror_mode": {
    "name": "ipython",
    "version": 3
   },
   "file_extension": ".py",
   "mimetype": "text/x-python",
   "name": "python",
   "nbconvert_exporter": "python",
   "pygments_lexer": "ipython3",
   "version": "3.7.3"
  }
 },
 "nbformat": 4,
 "nbformat_minor": 2
}

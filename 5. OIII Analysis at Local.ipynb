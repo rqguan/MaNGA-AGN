{
 "cells": [
  {
   "cell_type": "markdown",
   "metadata": {},
   "source": [
    "This pipline is for identifying the bi-cone feature in MaNGA Galaxies.\n",
    "The way to identify the feature would be:\n",
    "1. transforming a OIII map to polar coordinate.\n",
    "2. Spread the polar coordinate back in a Cartesian coordinate\n",
    "3. Take the average flux of each column to make a histogram\n",
    "4. Analyze the feature in the histogram using Gaussian blurring or ?\n",
    "5. Compare samples to see if the pipeline would work for its purpose. \n",
    "\n",
    "Jun. 21, 2022"
   ]
  },
  {
   "cell_type": "code",
   "execution_count": 1,
   "metadata": {},
   "outputs": [
    {
     "name": "stderr",
     "output_type": "stream",
     "text": [
      "\u001b[0;34m[INFO]: \u001b[0mNo release version set. Setting default to DR17\n",
      "\u001b[1;33m[WARNING]: \u001b[0m\u001b[0;39mpath /Users/runquanguan/sas/mangawork/manga/spectro/redux/v3_1_1/drpall-v3_1_1.fits cannot be found. Setting drpall to None.\u001b[0m \u001b[0;36m(MarvinUserWarning)\u001b[0m\n",
      "\u001b[1;33m[WARNING]: \u001b[0m\u001b[0;39mpath /Users/runquanguan/sas/mangawork/manga/spectro/analysis/v3_1_1/3.1.0/dapall-v3_1_1-3.1.0.fits cannot be found. Setting dapall to None.\u001b[0m \u001b[0;36m(MarvinUserWarning)\u001b[0m\n",
      "\u001b[1;33m[WARNING]: \u001b[0m\u001b[0;39mPassing field metadata as keyword arguments is deprecated. Use the explicit `metadata=...` argument instead. Additional metadata: {'location': 'view_args'}\u001b[0m \u001b[0;36m(RemovedInMarshmallow4Warning)\u001b[0m\n",
      "\u001b[1;33m[WARNING]: \u001b[0m\u001b[0;39mThe 'missing' argument to fields is deprecated. Use 'load_default' instead.\u001b[0m \u001b[0;36m(RemovedInMarshmallow4Warning)\u001b[0m\n"
     ]
    }
   ],
   "source": [
    "import numpy as np\n",
    "import cv2\n",
    "import scipy as scipy\n",
    "import scipy.interpolate\n",
    "import matplotlib.pyplot as plt\n",
    "from astropy.io import fits\n",
    "import polarTransform\n",
    "from astropy.utils.data import get_pkg_data_filename\n",
    "from scipy.stats import wasserstein_distance"
   ]
  },
  {
   "cell_type": "markdown",
   "metadata": {},
   "source": [
    "## importing MAPS "
   ]
  },
  {
   "cell_type": "code",
   "execution_count": 8,
   "metadata": {},
   "outputs": [
    {
     "data": {
      "text/plain": [
       "\"\\nBC_PATH = '/Users/runquanguan/Documents/Research/MaNGA-AGN/Pipeline&Instrction/obvious_bicone_feature_position.fits'\\nBC_hdul = fits.open(PATH)\\nBC_hdu = hdul[1].data\\n#extract MAPS from MARVIN:\\nfor data in BC_hdu:\\n    maps = Maps(str(data[0]), bintype='SPX', template='MILESHC-MASTARSSP')\\n\""
      ]
     },
     "execution_count": 8,
     "metadata": {},
     "output_type": "execute_result"
    }
   ],
   "source": [
    "#Load PATH:\n",
    "\n",
    "plateifu = '8240-6103' \n",
    "\n",
    "maps = Maps(plateifu, bintype='SPX', template='MILESHC-MASTARSSP')\n",
    "FOLDER = '/Users/runquanguan/Documents/Research/MaNGA-AGN/Data/'\n",
    "FILENAME = 'manga-' + plateifu + '-MAPS-SPX-MILESHC-MASTARSSP.fits'\n",
    "PATH = FOLDER+FILENAME\n",
    "\n",
    "\n",
    "#PATH for bicone featured galaxies:\n",
    "'''\n",
    "BC_PATH = '/Users/runquanguan/Documents/Research/MaNGA-AGN/Pipeline&Instrction/obvious_bicone_feature_position.fits'\n",
    "BC_hdul = fits.open(PATH)\n",
    "BC_hdu = hdul[1].data\n",
    "#extract MAPS from MARVIN:\n",
    "for data in BC_hdu:\n",
    "    maps = Maps(str(data[0]), bintype='SPX', template='MILESHC-MASTARSSP')\n",
    "'''"
   ]
  },
  {
   "cell_type": "code",
   "execution_count": 9,
   "metadata": {},
   "outputs": [
    {
     "data": {
      "text/plain": [
       "(54, 54)"
      ]
     },
     "execution_count": 9,
     "metadata": {},
     "output_type": "execute_result"
    }
   ],
   "source": [
    "#Load MAPS:\n",
    "\n",
    "image_file = get_pkg_data_filename(PATH)\n",
    "\n",
    "#Non-parametric equivalent widths measurements\n",
    "EMLINE_SEW = fits.getdata(image_file, ext=26)\n",
    "#Gaussian-fitted equivalent widths measurements  (we use this one)\n",
    "EMLINE_GEW = fits.getdata(image_file, ext=33)\n",
    "\n",
    "#Channel of Elements: \n",
    "#'OIII-5008'          / Data in channel 17 \n",
    "#'Ha-6564 '           / Data in channel 24\n",
    "#'Hb-4862 '           / Data in channel 15\n",
    "#'NII-6585'           / Data in channel 25\n",
    "#'SII-6732'           / Data in channel 27\n",
    "DATA = EMLINE_GEW[16]\n",
    "DATA.shape"
   ]
  },
  {
   "cell_type": "markdown",
   "metadata": {},
   "source": [
    "#Print Image for test\n",
    "plt.imshow(DATA, cmap='viridis',vmin=0, vmax=1.6)\n",
    "plt.title(r'$EW_{OIII}$')\n",
    "plt.gca().invert_yaxis()\n",
    "plt.colorbar(orientation='vertical',label = r'$log(\\AA)$')\n",
    "plt.show()"
   ]
  },
  {
   "cell_type": "markdown",
   "metadata": {},
   "source": [
    "## Find the coordinate of flux center pixel"
   ]
  },
  {
   "cell_type": "code",
   "execution_count": 10,
   "metadata": {},
   "outputs": [
    {
     "data": {
      "text/plain": [
       "54"
      ]
     },
     "execution_count": 10,
     "metadata": {},
     "output_type": "execute_result"
    }
   ],
   "source": [
    "# Find the index of the galaxy through header file\n",
    "HEADER_PATH = '/Users/runquanguan/Documents/dapall-v3_1_1-3.1.0.fits'\n",
    "header_hdul = fits.open(HEADER_PATH)\n",
    "SPX_MILESHC_MASTARSSP = header_hdul[1]\n",
    "header_plateifu = SPX_MILESHC_MASTARSSP.data['PLATEIFU']\n",
    "galaxy_index = list(header_plateifu).index(plateifu)\n",
    "\n",
    "# Find the center coordinate RA/DEC\n",
    "RA = SPX_MILESHC_MASTARSSP.data['OBJRA'][galaxy_index]\n",
    "DEC = SPX_MILESHC_MASTARSSP.data['OBJDEC'][galaxy_index]\n",
    "\n",
    "# Find the IFU pointing RA/DEC\n",
    "IFURA = SPX_MILESHC_MASTARSSP.data['IFURA'][galaxy_index]\n",
    "IFUDEC = SPX_MILESHC_MASTARSSP.data['IFUDEC'][galaxy_index]\n",
    "\n",
    "#IFURA == RA and IFUDEC == DEC # check if IFU is point correct\n",
    "\n",
    "# It turned out that each image is centered already, \n",
    "# but different in shapes! \n",
    "EMLINE_GEW[16].shape[0]"
   ]
  },
  {
   "cell_type": "markdown",
   "metadata": {},
   "source": [
    "## Transform image to Polar Coordinate"
   ]
  },
  {
   "cell_type": "code",
   "execution_count": 11,
   "metadata": {},
   "outputs": [],
   "source": [
    "# First we need to remove the 3-sigma data\n",
    "\n",
    "mean = np.mean(EMLINE_GEW[16])\n",
    "sd = np.std(EMLINE_GEW[16])\n",
    "\n",
    "sigma_lw = mean - 1 * sd\n",
    "sigma_up =  mean + 1 * sd\n",
    "\n",
    "cartesianImage = EMLINE_GEW[16]\n",
    "\n",
    "w = EMLINE_GEW[16].shape[0]\n",
    "h = EMLINE_GEW[16].shape[1]\n",
    "\n",
    "polarImage, ptSettings = polarTransform.convertToPolarImage(EMLINE_GEW[16], center=[round(w/2), round(h/2)])"
   ]
  },
  {
   "cell_type": "markdown",
   "metadata": {},
   "source": [
    "plt.imshow(polarImage.T, origin='upper', cmap='viridis',vmin=sigma_lw, vmax=sigma_up)\n",
    "plt.title(r'$EW_{OIII}$')\n",
    "plt.gca().invert_yaxis()\n",
    "plt.colorbar(orientation='vertical',label = r'$log(\\AA)$')\n",
    "plt.show()"
   ]
  },
  {
   "cell_type": "markdown",
   "metadata": {},
   "source": [
    "## Now let's integrate each column"
   ]
  },
  {
   "cell_type": "code",
   "execution_count": 14,
   "metadata": {},
   "outputs": [],
   "source": [
    "# Integrate the column\n",
    "EW_COL = [sum(x)/polarImage.T.shape[0] for x in zip(*polarImage.T)]\n",
    "\n",
    "# Exclude outlier using 3-sigma variant\n",
    "mean = np.mean(EW_COL)\n",
    "sd = np.std(EW_COL)\n",
    "EW_CLEAN = [x for x in EW_COL if (x >= mean - 2 * sd)]\n",
    "EW_CLEAN = [x for x in EW_CLEAN if (x <= mean + 2 * sd)]\n",
    "# Smoothening the curve using Gaussian filter\n",
    "EW_SMO = scipy.ndimage.gaussian_filter(EW_CLEAN, sigma = 5)\n",
    "\n",
    "# To better identify the feature, plot two cycles of the galaxy\n",
    "EW_SMO_TW = list(np.append(EW_SMO, EW_SMO))\n",
    "\n",
    "# limited the array to exactly one cycle: but from min to min\n",
    "min_index = min(EW_SMO_TW, default = 0) # find min value\n",
    "start_index = [i for i, n in enumerate(EW_SMO_TW) if n == min_index][0] # find index of 1st min\n",
    "end_index = [i for i, n in enumerate(EW_SMO_TW) if n == min_index][1] # find index of 2nd min\n",
    "trunc_EW = np.array(EW_SMO_TW[start_index:end_index]) # truncate from 1st to 2nd min\n",
    "\n",
    "# Correct the 0 data error first:\n",
    "if len(trunc_EW) <= 4:\n",
    "    trunc_EW = np.linspace(0,200,200)\n",
    "else:\n",
    "    pass\n",
    "# Normalization \n",
    "norm = np.linalg.norm(trunc_EW)\n",
    "norm_EW = trunc_EW/norm\n",
    "\n",
    "# Make them all to the same length through interpolation\n",
    "x = np.linspace(0,len(norm_EW),len(norm_EW))\n",
    "y = norm_EW\n",
    "x2 = np.linspace(0,len(norm_EW),500)\n",
    "f_linear = scipy.interpolate.interp1d(x, y)\n",
    "intp_EW = f_linear(x2)\n",
    "\n"
   ]
  },
  {
   "cell_type": "code",
   "execution_count": 13,
   "metadata": {},
   "outputs": [
    {
     "data": {
      "image/png": "[encoded data removed]",
      "text/plain": [
       "<Figure size 640x480 with 1 Axes>"
      ]
     },
     "metadata": {},
     "output_type": "display_data"
    }
   ],
   "source": [
    "# Integrate the column\n",
    "EW_COL = [sum(x)/polarImage.T.shape[0] for x in zip(*polarImage.T)]\n",
    "\n",
    "# Exclude outlier by smoothening the curve\n",
    "mean = np.mean(EW_COL)\n",
    "sd = np.std(EW_COL)\n",
    "\n",
    "EW_CLEAN = [x for x in EW_COL if (x >= mean - 2 * sd)]\n",
    "EW_CLEAN = [x for x in EW_CLEAN if (x <= mean + 2 * sd)]\n",
    "\n",
    "EW_SMO = scipy.ndimage.gaussian_filter(EW_CLEAN, sigma = 5)\n",
    "\n",
    "# To better identify the feature, let's plot two cycles of the galaxy\n",
    "EW_SMO_TW = list(np.append(EW_SMO, EW_SMO))\n",
    "\n",
    "# limited the array to exactly one cycle: from min to mimn\n",
    "min_index = min(EW_SMO_TW, default=0)\n",
    "start_index = [i for i, n in enumerate(EW_SMO_TW) if n == min_index][0]\n",
    "end_index = [i for i, n in enumerate(EW_SMO_TW) if n == min_index][1]\n",
    "trunc_EW = np.array(EW_SMO_TW[start_index:end_index])\n",
    "\n",
    "# Normalization \n",
    "# Correct the 0 data error first:\n",
    "if len(trunc_EW) <= 4:\n",
    "    trunc_EW = np.linspace(0,200,200)\n",
    "else:\n",
    "    pass\n",
    "\n",
    "norm = np.linalg.norm(trunc_EW)\n",
    "norm_EW = trunc_EW/norm\n",
    "\n",
    "# Make them all to the same length\n",
    "x = np.linspace(0,len(norm_EW),len(norm_EW))\n",
    "y = norm_EW\n",
    "x2 = np.linspace(0,len(norm_EW),500)\n",
    "f_linear = scipy.interpolate.interp1d(x, y)\n",
    "\n",
    "intp_EW = f_linear(x2)\n",
    "\n",
    "plt.plot(intp_EW)\n",
    "plt.show()"
   ]
  },
  {
   "cell_type": "code",
   "execution_count": 14,
   "metadata": {},
   "outputs": [
    {
     "data": {
      "text/plain": [
       "'8479-6104'"
      ]
     },
     "execution_count": 14,
     "metadata": {},
     "output_type": "execute_result"
    }
   ],
   "source": [
    "#Blacklist:\n",
    "'8479-6104'"
   ]
  },
  {
   "cell_type": "code",
   "execution_count": null,
   "metadata": {},
   "outputs": [],
   "source": []
  }
 ],
 "metadata": {
  "kernelspec": {
   "display_name": "Python 3",
   "language": "python",
   "name": "python3"
  },
  "language_info": {
   "codemirror_mode": {
    "name": "ipython",
    "version": 3
   },
   "file_extension": ".py",
   "mimetype": "text/x-python",
   "name": "python",
   "nbconvert_exporter": "python",
   "pygments_lexer": "ipython3",
   "version": "3.7.3"
  }
 },
 "nbformat": 4,
 "nbformat_minor": 2
}

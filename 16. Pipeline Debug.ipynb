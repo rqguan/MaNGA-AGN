{
 "cells": [
  {
   "cell_type": "code",
   "execution_count": 2,
   "metadata": {},
   "outputs": [
    {
     "name": "stderr",
     "output_type": "stream",
     "text": [
      "\u001b[0;34m[INFO]: \u001b[0mNo release version set. Setting default to DR17\n",
      "\u001b[1;33m[WARNING]: \u001b[0m\u001b[0;39mpath /Users/runquanguan/sas/mangawork/manga/spectro/redux/v3_1_1/drpall-v3_1_1.fits cannot be found. Setting drpall to None.\u001b[0m \u001b[0;36m(MarvinUserWarning)\u001b[0m\n",
      "\u001b[1;33m[WARNING]: \u001b[0m\u001b[0;39mpath /Users/runquanguan/sas/mangawork/manga/spectro/analysis/v3_1_1/3.1.0/dapall-v3_1_1-3.1.0.fits cannot be found. Setting dapall to None.\u001b[0m \u001b[0;36m(MarvinUserWarning)\u001b[0m\n",
      "\u001b[1;33m[WARNING]: \u001b[0m\u001b[0;39mPassing field metadata as keyword arguments is deprecated. Use the explicit `metadata=...` argument instead. Additional metadata: {'location': 'view_args'}\u001b[0m \u001b[0;36m(RemovedInMarshmallow4Warning)\u001b[0m\n",
      "\u001b[1;33m[WARNING]: \u001b[0m\u001b[0;39mThe 'missing' argument to fields is deprecated. Use 'load_default' instead.\u001b[0m \u001b[0;36m(RemovedInMarshmallow4Warning)\u001b[0m\n"
     ]
    }
   ],
   "source": [
    "import numpy as np\n",
    "from astropy.io import fits\n",
    "from marvin.tools import Maps\n",
    "from tqdm import tqdm\n",
    "import Bicone_Classifier\n",
    "import multiprocessing as mp\n",
    "import copy\n"
   ]
  },
  {
   "cell_type": "markdown",
   "metadata": {},
   "source": [
    "HEADER_PATH = '/Users/runquanguan/Documents/dapall-v3_1_1-3.1.0.fits'\n",
    "hdul = fits.open(HEADER_PATH)\n",
    "hdu = hdul[1].data\n",
    "plateifu = hdu['PLATEIFU']"
   ]
  },
  {
   "cell_type": "code",
   "execution_count": 2,
   "metadata": {},
   "outputs": [],
   "source": [
    "HEADER_PATH = '/Users/runquanguan/Documents/bicone_training_set.fits'\n",
    "hdul = fits.open(HEADER_PATH)\n",
    "hdu = hdul[1].data\n",
    "plateifu = hdu['PLATEIFU']\n"
   ]
  },
  {
   "cell_type": "code",
   "execution_count": 9,
   "metadata": {},
   "outputs": [
    {
     "data": {
      "text/plain": [
       "array([0.6, 0.8, 1. , 1.2, 1.4, 1.6, 1.8, 2. , 2.2, 2.4, 2.6, 2.8, 3. ,\n",
       "       3.2, 3.4, 3.6, 3.8, 4. ])"
      ]
     },
     "execution_count": 9,
     "metadata": {},
     "output_type": "execute_result"
    }
   ],
   "source": [
    "np.linspace(0.6, 4, 18)"
   ]
  },
  {
   "cell_type": "code",
   "execution_count": 3,
   "metadata": {},
   "outputs": [],
   "source": [
    "def first_filter(data):\n",
    "    \n",
    "    if len(data) >= 2:\n",
    "        try:\n",
    "\n",
    "            ellip = Bicone_Classifier.ellip_gen(data)\n",
    "            loss_list = []\n",
    "\n",
    "            for i in np.linspace(0.6, 4, 8):\n",
    "                start, end = round(i,1), round(i,1)+0.3\n",
    "                curve = Bicone_Classifier.ellip_ring_curve(ellip, in_r = start, out_r = end, cycle = 2)\n",
    "                result = Bicone_Classifier.fourier_classifier(curve)\n",
    "\n",
    "                if result[1][1] == 3:\n",
    "                    loss_list.append(result[2])\n",
    "                else:\n",
    "                    loss_list.append(np.array([0]))\n",
    "\n",
    "            if sum(loss_list) >= 220:\n",
    "                return data\n",
    "        except:\n",
    "            pass\n",
    "            \n",
    "    else:\n",
    "        pass"
   ]
  },
  {
   "cell_type": "code",
   "execution_count": 4,
   "metadata": {},
   "outputs": [
    {
     "name": "stdout",
     "output_type": "stream",
     "text": [
      "['7957-6102', '7958-9101', '7960-6103', '7963-3703', '7977-3702', '7972-3704', '7990-3702', '7990-1901', '7990-9102', '7991-6104', '8077-6102', '8080-3704', '8081-1901', None, '8083-3704', '8138-6101', '8247-6104', '8248-3701', '8245-3704', '8156-6102', '8249-3702', '8250-6104', '8252-9101', '8253-12703', '8261-6104', '8309-12701', '8311-12704', '8320-1901', '8322-3704', '8324-6103', '8324-6104', '8324-12701', '8338-3704', '8439-3701', '8441-3703', '8338-6101', '8445-9102', None, '8448-3701', '8453-1901', None, '8461-1901', '8458-12701', None, '8462-9101', '8466-1901', '8465-12704', '8486-12705', '8550-3701', '8551-1901', '8550-3703', '8551-6104', '8555-1901', '8561-3703', '8562-1901', '8566-3701', '8568-1901', '8588-1902', '8588-3703', '8592-3702', '8597-1901', None, '8612-12704', '8610-12703', '8614-1902', None, '8715-6103', '8626-12702', '8716-9101', '8723-1902', None, '8718-12702', '8726-1901', None, '8938-1902', '8940-6101', '8946-1901', '8947-3701', '8950-12701', '8950-12705', '8987-9102', '9030-1902', '8998-6102', '9001-12702', '9031-3702', '9040-1901', '9031-12704', '9089-3704', '9090-1901', '9093-12701', '9094-12703', None, '9186-1901', '9485-3701', '9487-3703', '9492-3702', '9494-3701', '9495-3703', None, '9502-12704', '9503-3702', '9505-6102', '9514-1902', '9868-1902', '9867-9102', '9872-3701', '9880-12705', '9892-3703', '9893-3701', '9893-6102', '9894-12703', '10215-9102', '10222-1902', '10502-12701', '10507-1901', '10216-12704', None, '10512-6102', '10517-3701', '10518-3704', None, '10520-3704', '10520-6103', '11021-3702', '11743-6102', '11746-9101', '11750-3703', '11826-6103', '11827-6102', None, '11833-12701', None, None, '11863-9102', '11945-1902', '11947-3704', '11946-3701', '11949-3702', '11958-3703', '11957-6103', '11968-3702', '11981-1901', '12078-3703', '12089-3703', '12090-6101', '12484-1901', '12485-3704', '12491-3704', '12512-1902', '12512-3701', '12512-6104', '12489-12705', '12667-6104', '12673-6101', '12700-6101', '12684-12701']\n"
     ]
    }
   ],
   "source": [
    "if __name__ == '__main__':\n",
    "    pool = mp.Pool(processes=4)\n",
    "\n",
    "    results = []\n",
    "    for result in pool.imap_unordered(first_filter, plateifu):\n",
    "        results.append(result)\n",
    "       \n",
    "    print(results)"
   ]
  },
  {
   "cell_type": "code",
   "execution_count": 5,
   "metadata": {},
   "outputs": [
    {
     "data": {
      "text/plain": [
       "141"
      ]
     },
     "execution_count": 5,
     "metadata": {},
     "output_type": "execute_result"
    }
   ],
   "source": [
    "result_copy = copy.deepcopy(results)\n",
    "\n",
    "first_stage = []\n",
    "\n",
    "for i in result_copy:\n",
    "    if i != None:\n",
    "        first_stage.append(i)\n",
    "        \n",
    "len(first_stage)"
   ]
  },
  {
   "cell_type": "markdown",
   "metadata": {},
   "source": [
    "index_list = []\n",
    "for i in first_stage:\n",
    "    index_list.append(float(i[1]))\n",
    "    \n",
    "index_copy = copy.deepcopy(index_list)\n",
    "index_copy.sort()\n",
    "for i in index_copy:\n",
    "    if i <= 220:\n",
    "        index = index_list.index(i)\n",
    "        plateifu = first_stage[index][0]\n",
    "        print(plateifu)\n",
    "        \n",
    "        \n",
    "'''\n",
    "Below 220:\n",
    "11832-1902\n",
    "8132-1902\n",
    "8449-1902\n",
    "8458-1901\n",
    "9501-1902\n",
    "9091-12703\n",
    "11834-9102\n",
    "8619-9102\n",
    "11863-6103\n",
    "8936-1902\n",
    "8602-6101\n",
    "8716-12704\n",
    "8461-1902\n",
    "'''"
   ]
  },
  {
   "cell_type": "code",
   "execution_count": 6,
   "metadata": {},
   "outputs": [],
   "source": [
    "def second_filter(data):        \n",
    "    \n",
    "        ellip = Bicone_Classifier.ellip_gen(data)\n",
    "        axis_loss = []\n",
    "        \n",
    "        for i in np.linspace(0.6, 2, 8):\n",
    "            \n",
    "            start, end = round(i,1), round(i,1)+0.3\n",
    "            curve = Bicone_Classifier.ellip_ring_curve(ellip, in_r = start, out_r = end, cycle = 2)\n",
    "            result = Bicone_Classifier.fourier_classifier(curve)\n",
    "\n",
    "            axis_loss.append(result[4])\n",
    "\n",
    "        total_axis_loss = sum(axis_loss)\n",
    "\n",
    "        if total_axis_loss <= 225:\n",
    "            return data\n",
    "        else:\n",
    "            pass\n"
   ]
  },
  {
   "cell_type": "code",
   "execution_count": 7,
   "metadata": {},
   "outputs": [
    {
     "name": "stdout",
     "output_type": "stream",
     "text": [
      "['7960-6103', '7963-3703', '7958-9101', '7957-6102', '7977-3702', '7972-3704', None, '7990-1901', '7990-9102', '7991-6104', '8080-3704', '8077-6102', '8081-1901', '8083-3704', '8138-6101', '8247-6104', '8248-3701', '8245-3704', '8156-6102', '8249-3702', '8250-6104', '8252-9101', '8253-12703', '8261-6104', '8309-12701', None, '8311-12704', '8324-6103', None, '8324-6104', '8324-12701', '8338-3704', '8439-3701', '8441-3703', '8338-6101', '8445-9102', '8448-3701', '8453-1901', '8461-1901', '8458-12701', '8462-9101', '8466-1901', None, '8486-12705', '8550-3701', None, '8550-3703', '8551-6104', '8555-1901', '8561-3703', '8562-1901', '8566-3701', None, '8588-1902', None, '8597-1901', '8592-3702', '8612-12704', '8610-12703', None, '8715-6103', '8716-9101', '8626-12702', None, None, '8938-1902', '8718-12702', '8940-6101', None, '8947-3701', '8950-12701', '8950-12705', '8987-9102', '9030-1902', '8998-6102', '9001-12702', '9031-3702', '9040-1901', None, '9031-12704', '9090-1901', '9093-12701', '9094-12703', '9186-1901', None, '9487-3703', '9492-3702', '9494-3701', '9495-3703', '9502-12704', '9503-3702', '9514-1902', '9505-6102', '9868-1902', '9867-9102', '9872-3701', '9880-12705', '9892-3703', '9893-3701', '9893-6102', '9894-12703', '10215-9102', '10222-1902', None, '10216-12704', '10502-12701', '10512-6102', '10517-3701', None, '10518-3704', '10520-6103', '11021-3702', '11743-6102', '11746-9101', '11750-3703', '11826-6103', '11827-6102', None, '11863-9102', '11945-1902', '11946-3701', '11949-3702', '11947-3704', '11958-3703', '11957-6103', '11968-3702', '11981-1901', '12078-3703', '12089-3703', '12090-6101', '12484-1901', '12485-3704', None, None, '12512-3701', '12512-6104', '12667-6104', '12489-12705', '12673-6101', '12700-6101', '12684-12701']\n"
     ]
    }
   ],
   "source": [
    "if __name__ == '__main__':\n",
    "    pool = mp.Pool(processes=4)\n",
    "\n",
    "    final_result = []\n",
    "    for result in pool.imap_unordered(second_filter, first_stage):\n",
    "        final_result.append(result)\n",
    "       \n",
    "    print(final_result)"
   ]
  },
  {
   "cell_type": "code",
   "execution_count": 8,
   "metadata": {},
   "outputs": [
    {
     "data": {
      "text/plain": [
       "123"
      ]
     },
     "execution_count": 8,
     "metadata": {},
     "output_type": "execute_result"
    }
   ],
   "source": [
    "final_copy = copy.deepcopy(final_result)\n",
    "\n",
    "second_stage = []\n",
    "\n",
    "for i in final_copy:\n",
    "    if i != None:\n",
    "        second_stage.append(i)\n",
    "        \n",
    "len(second_stage)"
   ]
  },
  {
   "cell_type": "code",
   "execution_count": 18,
   "metadata": {},
   "outputs": [],
   "source": [
    "c1 = fits.Column(name='plateifu', array=np.array(second_stage), format='20A')\n",
    "t = fits.BinTableHDU.from_columns([c1])\n",
    "t.writeto('bicone_candidates_AUTO_v2.fits')"
   ]
  },
  {
   "cell_type": "markdown",
   "metadata": {},
   "source": [
    "# Check the missed galaxies"
   ]
  },
  {
   "cell_type": "code",
   "execution_count": 9,
   "metadata": {},
   "outputs": [],
   "source": [
    "## Test Section:\n",
    "\n",
    "### Save missing galaxies\n",
    "missing = []\n",
    "\n",
    "for i in plateifu:\n",
    "    if i in second_stage:\n",
    "        pass\n",
    "    else:\n",
    "        missing.append(i)\n",
    "    \n"
   ]
  },
  {
   "cell_type": "code",
   "execution_count": 13,
   "metadata": {},
   "outputs": [
    {
     "data": {
      "text/plain": [
       "33"
      ]
     },
     "execution_count": 13,
     "metadata": {},
     "output_type": "execute_result"
    }
   ],
   "source": [
    "len(missing)"
   ]
  },
  {
   "cell_type": "markdown",
   "metadata": {},
   "source": [
    "## Rerun the pipeline and make sure there's no bug for missing"
   ]
  },
  {
   "cell_type": "code",
   "execution_count": null,
   "metadata": {},
   "outputs": [],
   "source": [
    "def missing_print(data):\n",
    "    \n",
    "    if len(data) >= 2:\n",
    "        try:\n",
    "\n",
    "            ellip = Bicone_Classifier.ellip_gen(data)\n",
    "            loss_list = []\n",
    "            axis_loss = []\n",
    "\n",
    "            for i in np.linspace(0.6, 2, 8):\n",
    "                start, end = round(i,1), round(i,1)+0.3\n",
    "                curve = Bicone_Classifier.ellip_ring_curve(ellip, in_r = start, out_r = end, cycle = 2)\n",
    "                result = Bicone_Classifier.fourier_classifier(curve)\n",
    "                \n",
    "                axis_loss.append(result[4])\n",
    "\n",
    "                if result[1][1] == 3:\n",
    "                    loss_list.append(result[2])\n",
    "                else:\n",
    "                    loss_list.append(np.array([0]))\n",
    "\n",
    "            \n",
    "            total_axis_loss = sum(axis_loss)\n",
    "            \n",
    "            return data, sum(loss_list), total_axis_loss\n",
    "        \n",
    "        \n",
    "        except:\n",
    "            pass\n",
    "            \n",
    "    else:\n",
    "        pass\n",
    "    \n",
    "    "
   ]
  },
  {
   "cell_type": "code",
   "execution_count": 16,
   "metadata": {},
   "outputs": [
    {
     "name": "stdout",
     "output_type": "stream",
     "text": [
      "[('8132-1902', array([120.29635673]), 328), ('8320-1901', array([374.82057521]), 333), ('7990-3702', array([505.86751378]), 291), ('8322-3704', 629.7166339757821, 272), ('8449-1902', array([160.07165649]), 226), ('8458-1901', array([170.69310421]), 419), ('8461-1902', array([214.9286914]), 299), ('8551-1901', array([605.35386355]), 303), ('8588-3703', array([351.00440214]), 273), ('8568-1901', array([382.97824888]), 342), ('8465-12704', 955.5371670836423, 237), ('8602-6101', array([199.31538551]), 265), ('8614-1902', array([519.60117591]), 262), ('8619-9102', array([185.15543105]), 125), ('8716-12704', array([204.42536548]), 123), ('8726-1901', array([479.79853398]), 233), ('8723-1902', array([547.57183727]), 266), ('8946-1901', array([526.22502395]), 234), ('8936-1902', array([197.45295077]), 234), ('9089-3704', array([266.72655436]), 253), ('9485-3701', array([302.88490405]), 312), ('9091-12703', array([175.18964128]), 210), ('9501-1902', array([172.3887032]), 223), ('10507-1901', array([308.11198915]), 309), ('10519-1901', array([0]), 395), ('10513-1902', array([106.51600693]), 173), ('10520-3704', array([498.3306656]), 250), ('11832-1902', array([0]), 686), ('11833-12701', array([524.94773091]), 248), ('11863-6103', array([193.7169245]), 285), ('12491-3704', array([292.56983532]), 263), ('12512-1902', array([226.05062087]), 230), ('11834-9102', array([177.04906292]), 368)]\n"
     ]
    }
   ],
   "source": [
    "\n",
    "if __name__ == '__main__':\n",
    "    pool = mp.Pool(processes=4)\n",
    "\n",
    "    results = []\n",
    "    for result in pool.imap_unordered(missing_print, missing):\n",
    "        results.append(result)\n",
    "       \n",
    "    print(results)"
   ]
  },
  {
   "cell_type": "code",
   "execution_count": 22,
   "metadata": {},
   "outputs": [],
   "source": [
    "missing_print_copy = copy.deepcopy(results)\n",
    "\n",
    "\n",
    "ints_loss = []\n",
    "axis_loss = []\n",
    "\n",
    "for i in missing_print_copy:\n",
    "    ints_loss.append(float(i[1]))\n",
    "    axis_loss.append(float(i[2]))\n",
    "    "
   ]
  },
  {
   "cell_type": "code",
   "execution_count": 33,
   "metadata": {},
   "outputs": [
    {
     "data": {
      "text/plain": [
       "33"
      ]
     },
     "execution_count": 33,
     "metadata": {},
     "output_type": "execute_result"
    }
   ],
   "source": [
    "len(missing_print_copy)"
   ]
  },
  {
   "cell_type": "code",
   "execution_count": 32,
   "metadata": {},
   "outputs": [],
   "source": [
    "# criteria:\n",
    "#   ints_loss >= 220\n",
    "#   axis_loss <= 225\n",
    "\n",
    "for i in missing_print_copy:\n",
    "    if float(i[1]) >= 220 and float(i[2]) <= 225:\n",
    "        print(i[0])"
   ]
  },
  {
   "cell_type": "markdown",
   "metadata": {},
   "source": [
    "# Combine Two Filters"
   ]
  },
  {
   "cell_type": "code",
   "execution_count": null,
   "metadata": {},
   "outputs": [],
   "source": [
    "def bicone_selection(data):\n",
    "    \n",
    "    if len(data) >= 2:\n",
    "        try:\n",
    "\n",
    "            ellip = Bicone_Classifier.ellip_gen(data)\n",
    "            ints_index = []\n",
    "            axis_loss = []\n",
    "\n",
    "            for i in np.linspace(0.6, 2, 8):\n",
    "                start, end = round(i,1), round(i,1)+0.3\n",
    "                curve = Bicone_Classifier.ellip_ring_curve(ellip, in_r = start, out_r = end, cycle = 2)\n",
    "                result = Bicone_Classifier.fourier_classifier(curve)\n",
    "                \n",
    "                axis_loss.append(result[4])\n",
    "\n",
    "                if result[1][1] == 3:\n",
    "                    ints_index.append(result[2])\n",
    "                else:\n",
    "                    ints_index.append(np.array([0]))\n",
    "\n",
    "            total_ints_loss = sum(ints_index)\n",
    "            total_axis_loss = sum(axis_loss)\n",
    "            \n",
    "            if total_ints_loss >= 220 and total_axis_loss <= 225:\n",
    "                return data\n",
    "            else:\n",
    "                pass\n",
    "        \n",
    "        \n",
    "        except:\n",
    "            pass\n",
    "            \n",
    "    else:\n",
    "        pass\n",
    "    \n",
    "   "
   ]
  },
  {
   "cell_type": "code",
   "execution_count": null,
   "metadata": {},
   "outputs": [],
   "source": [
    "if __name__ == '__main__':\n",
    "    pool = mp.Pool(processes=4)\n",
    "\n",
    "    results = []\n",
    "    for result in pool.imap_unordered(bicone_selection, plateifu):\n",
    "        results.append(result)\n",
    "       \n",
    "    print(results)"
   ]
  }
 ],
 "metadata": {
  "kernelspec": {
   "display_name": "Python 3",
   "language": "python",
   "name": "python3"
  },
  "language_info": {
   "codemirror_mode": {
    "name": "ipython",
    "version": 3
   },
   "file_extension": ".py",
   "mimetype": "text/x-python",
   "name": "python",
   "nbconvert_exporter": "python",
   "pygments_lexer": "ipython3",
   "version": "3.7.3"
  }
 },
 "nbformat": 4,
 "nbformat_minor": 2
}

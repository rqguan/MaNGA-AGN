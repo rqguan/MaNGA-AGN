{
 "cells": [
  {
   "cell_type": "code",
   "execution_count": 1,
   "metadata": {},
   "outputs": [
    {
     "name": "stderr",
     "output_type": "stream",
     "text": [
      "\u001b[0;34m[INFO]: \u001b[0mNo release version set. Setting default to DR17\n",
      "\u001b[1;33m[WARNING]: \u001b[0m\u001b[0;39mpath /Users/runquanguan/sas/mangawork/manga/spectro/redux/v3_1_1/drpall-v3_1_1.fits cannot be found. Setting drpall to None.\u001b[0m \u001b[0;36m(MarvinUserWarning)\u001b[0m\n",
      "\u001b[1;33m[WARNING]: \u001b[0m\u001b[0;39mpath /Users/runquanguan/sas/mangawork/manga/spectro/analysis/v3_1_1/3.1.0/dapall-v3_1_1-3.1.0.fits cannot be found. Setting dapall to None.\u001b[0m \u001b[0;36m(MarvinUserWarning)\u001b[0m\n",
      "\u001b[1;33m[WARNING]: \u001b[0m\u001b[0;39mPassing field metadata as keyword arguments is deprecated. Use the explicit `metadata=...` argument instead. Additional metadata: {'location': 'view_args'}\u001b[0m \u001b[0;36m(RemovedInMarshmallow4Warning)\u001b[0m\n",
      "\u001b[1;33m[WARNING]: \u001b[0m\u001b[0;39mThe 'missing' argument to fields is deprecated. Use 'load_default' instead.\u001b[0m \u001b[0;36m(RemovedInMarshmallow4Warning)\u001b[0m\n"
     ]
    }
   ],
   "source": [
    "from cgi import test\n",
    "from tkinter import EW\n",
    "import numpy as np\n",
    "import cv2\n",
    "import scipy as scipy\n",
    "import matplotlib.pyplot as plt\n",
    "from astropy.io import fits\n",
    "import polarTransform\n",
    "from marvin.tools import Maps\n",
    "from scipy.fft import fft"
   ]
  },
  {
   "cell_type": "code",
   "execution_count": 5,
   "metadata": {},
   "outputs": [],
   "source": [
    "# Find the nth occurance to resolve the repetition of '-'\n",
    "# For later use\n",
    "def find_nth(haystack, needle, n):\n",
    "    start = haystack.find(needle)\n",
    "    while start >= 0 and n > 1:\n",
    "        start = haystack.find(needle, start+len(needle))\n",
    "        n -= 1\n",
    "    return start"
   ]
  },
  {
   "cell_type": "code",
   "execution_count": null,
   "metadata": {},
   "outputs": [],
   "source": [
    "def normalize(arr, t_min = 0, t_max = 1):\n",
    "    norm_arr = []\n",
    "    diff = t_max - t_min\n",
    "    diff_arr = max(arr) - min(arr)    \n",
    "    for i in arr:\n",
    "        temp = (((i - min(arr))*diff)/diff_arr) + t_min\n",
    "        norm_arr.append(temp)\n",
    "    return norm_arr"
   ]
  },
  {
   "cell_type": "code",
   "execution_count": 1,
   "metadata": {},
   "outputs": [],
   "source": [
    "def generate_profile_histogram(plateifu, method = 'max', smooth = 10, cycle = 2):\n",
    "    \n",
    "    # Input: plateifu\n",
    "    # method: output array begin with the max or min value in the array\n",
    "    # smooth: Gaussian smoothening, the larger the smoother\n",
    "\n",
    "    # Outout: Smoothened histogarm, plateifu\n",
    "\n",
    "    \n",
    "    # Load OIII MAPS from SDSS-MARVIN server\n",
    "    maps = Maps(plateifu, bintype='SPX', template='MILESHC-MASTARSSP')\n",
    "    oiii_ew = maps.emline_gew_oiii_5008.value\n",
    "\n",
    "    # Transform to polar coordinate\n",
    "  \n",
    "    # Set center of image(just in case)\n",
    "    w = oiii_ew.shape[0]\n",
    "    h = oiii_ew.shape[1]\n",
    "\n",
    "    polarImage, ptSettings = polarTransform.convertToPolarImage(oiii_ew, center=[round(w/2), round(h/2)])\n",
    "    # Integrate the column\n",
    "    EW_COL = [sum(x)/polarImage.T.shape[0] for x in zip(*polarImage.T)]\n",
    "\n",
    "    # Exclude outlier using 3-sigma variant\n",
    "    mean = np.mean(EW_COL)\n",
    "    sd = np.std(EW_COL)\n",
    "    EW_CLEAN = [x for x in EW_COL if (x >= mean - 2 * sd)]\n",
    "    EW_CLEAN = [x for x in EW_CLEAN if (x <= mean + 2 * sd)]\n",
    "    # Smoothening the curve using Gaussian filter\n",
    "    EW_SMO = scipy.ndimage.gaussian_filter(EW_CLEAN, sigma = smooth)\n",
    "\n",
    "    # To better identify the feature, plot two cycles of the galaxy\n",
    "    EW_SMO_TW = []\n",
    "    \n",
    "    for i in range(0, cycle+1):\n",
    "        EW_SMO_TW = EW_SMO_TW + list(EW_SMO)\n",
    "\n",
    "    # Plot certain cycles\n",
    "\n",
    "    if method == 'max':\n",
    "        # limited the array to N cycles: but from max to max\n",
    "        max_index = max(EW_SMO_TW, default = 0) # find max value\n",
    "        start_index = [i for i, n in enumerate(EW_SMO_TW) if n == max_index][0] # find index of 1st max\n",
    "        end_index = [i for i, n in enumerate(EW_SMO_TW) if n == max_index][cycle] # find index of 2nd max\n",
    "        trunc_EW = np.array(EW_SMO_TW[start_index:end_index]) # truncate from 1st to 2nd max\n",
    "    elif method == 'min':\n",
    "        # limited the array to N cycles: but from max to max\n",
    "        min_index = min(EW_SMO_TW, default = 0) # find min value\n",
    "        start_index = [i for i, n in enumerate(EW_SMO_TW) if n == min_index][0] # find index of 1st min\n",
    "        end_index = [i for i, n in enumerate(EW_SMO_TW) if n == min_index][cycle] # find index of 2nd min\n",
    "        trunc_EW = np.array(EW_SMO_TW[start_index:end_index]) # truncate from 1st to 2nd min\n",
    "    else:\n",
    "        pass\n",
    "    \n",
    "    # Correct the 0 data error first:\n",
    "    if len(trunc_EW) <= 4:\n",
    "        trunc_EW = np.linspace(0,200,200)\n",
    "    else:\n",
    "        pass\n",
    "    # Normalization \n",
    "    norm_EW = normalize(trunc_EW)\n",
    "    \n",
    "    # Make them all to the same length through interpolation\n",
    "    x = np.linspace(0,len(norm_EW),len(norm_EW))\n",
    "    y = norm_EW\n",
    "    x2 = np.linspace(0,len(norm_EW),500)\n",
    "    f_linear = scipy.interpolate.interp1d(x, y)\n",
    "    intp_EW = f_linear(x2)\n",
    "        \n",
    "    \n",
    "    return intp_EW, plateifu"
   ]
  },
  {
   "cell_type": "code",
   "execution_count": null,
   "metadata": {},
   "outputs": [],
   "source": [
    "def fourier_classifier(sample):\n",
    "    \n",
    "    # Importing data, use 2 cycles(default)\n",
    "    test_EW_hist = sample[0]\n",
    "    test_plateifu = sample[1]\n",
    "\n",
    "    # 1. Set curve osillate around  y=0\n",
    "    # 2. Take the FT result from 1~50(not 0~50) because FT saturate at 0. \n",
    "    # Fourier Transform:\n",
    "    yf = np.abs(fft(test_EW_hist-0.5)[1:50])\n",
    "    \n",
    "    # Return the stongest frequency\n",
    "    max_index = list(yf).index(max(yf))\n",
    "    # Compensate the step 2.\n",
    "    max_corr = max_index + 1\n",
    "    \n",
    "    # Find the 4 largest peak value\n",
    "    yf.sort()\n",
    "    loss = sum(np.diff(yf[-4:]))\n",
    "    \n",
    "    return max_corr, loss, test_plateifu"
   ]
  },
  {
   "cell_type": "code",
   "execution_count": null,
   "metadata": {},
   "outputs": [],
   "source": []
  }
 ],
 "metadata": {
  "kernelspec": {
   "display_name": "Python 3",
   "language": "python",
   "name": "python3"
  },
  "language_info": {
   "codemirror_mode": {
    "name": "ipython",
    "version": 3
   },
   "file_extension": ".py",
   "mimetype": "text/x-python",
   "name": "python",
   "nbconvert_exporter": "python",
   "pygments_lexer": "ipython3",
   "version": "3.7.3"
  }
 },
 "nbformat": 4,
 "nbformat_minor": 2
}

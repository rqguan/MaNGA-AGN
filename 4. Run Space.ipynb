{
 "cells": [
  {
   "cell_type": "code",
   "execution_count": 1,
   "metadata": {},
   "outputs": [
    {
     "name": "stderr",
     "output_type": "stream",
     "text": [
      "\u001b[0;34m[INFO]: \u001b[0mNo release version set. Setting default to DR17\n",
      "\u001b[1;33m[WARNING]: \u001b[0m\u001b[0;39mpath /Users/runquanguan/sas/mangawork/manga/spectro/redux/v3_1_1/drpall-v3_1_1.fits cannot be found. Setting drpall to None.\u001b[0m \u001b[0;36m(MarvinUserWarning)\u001b[0m\n",
      "\u001b[1;33m[WARNING]: \u001b[0m\u001b[0;39mpath /Users/runquanguan/sas/mangawork/manga/spectro/analysis/v3_1_1/3.1.0/dapall-v3_1_1-3.1.0.fits cannot be found. Setting dapall to None.\u001b[0m \u001b[0;36m(MarvinUserWarning)\u001b[0m\n",
      "\u001b[1;33m[WARNING]: \u001b[0m\u001b[0;39mPassing field metadata as keyword arguments is deprecated. Use the explicit `metadata=...` argument instead. Additional metadata: {'location': 'view_args'}\u001b[0m \u001b[0;36m(RemovedInMarshmallow4Warning)\u001b[0m\n",
      "\u001b[1;33m[WARNING]: \u001b[0m\u001b[0;39mThe 'missing' argument to fields is deprecated. Use 'load_default' instead.\u001b[0m \u001b[0;36m(RemovedInMarshmallow4Warning)\u001b[0m\n"
     ]
    }
   ],
   "source": [
    "import copy\n",
    "from tqdm import tqdm\n",
    "\n",
    "import platform, multiprocessing\n",
    "from multiprocessing import Pool\n",
    "\n",
    "import numpy as np\n",
    "from astropy.io import fits\n",
    "import Simpler_Classifier\n",
    "\n",
    "from importlib import reload \n"
   ]
  },
  {
   "cell_type": "markdown",
   "metadata": {},
   "source": [
    "\n",
    "my_module = reload(Simpler_Classifier) # reload of Simpler_Classifier without restart"
   ]
  },
  {
   "cell_type": "code",
   "execution_count": 2,
   "metadata": {},
   "outputs": [],
   "source": [
    "#HEADER_PATH = '/Users/runquanguan/Desktop/0823samples.fits'\n",
    "HEADER_PATH = '/Users/runquanguan/Documents/bicone_training_set.fits'\n",
    "#HEADER_PATH = '/Users/runquanguan/Documents/dapall_excluded.fits'\n",
    "#HEADER_PATH = '/Users/runquanguan/Desktop/0824MPL11.fits'\n",
    "hdul = fits.open(HEADER_PATH)\n",
    "hdu = hdul[1].data\n",
    "plateifu = hdu['PLATEIFU']\n"
   ]
  },
  {
   "cell_type": "markdown",
   "metadata": {},
   "source": [
    "results = []\n",
    "for data in plateifu:\n",
    "    result = Simpler_Classifier.fit_test(data)\n",
    "    results.append(result)"
   ]
  },
  {
   "cell_type": "code",
   "execution_count": 3,
   "metadata": {},
   "outputs": [
    {
     "name": "stderr",
     "output_type": "stream",
     "text": [
      "100%|██████████| 156/156 [02:25<00:00,  1.07it/s]\n"
     ]
    }
   ],
   "source": [
    "if __name__ == '__main__':\n",
    "    if platform.system() == \"Darwin\":\n",
    "        multiprocessing.set_start_method('spawn')\n",
    "        pool = multiprocessing.Pool(processes=10)\n",
    "        results = []\n",
    "        for result in tqdm(pool.imap_unordered(Simpler_Classifier.fit_test, plateifu), total = len(plateifu)):\n",
    "            results.append(result)\n",
    "\n",
    "        pool.close()\n",
    "        pool.join() \n"
   ]
  },
  {
   "cell_type": "code",
   "execution_count": 4,
   "metadata": {},
   "outputs": [],
   "source": [
    "result_copy = copy.deepcopy(results)"
   ]
  },
  {
   "cell_type": "code",
   "execution_count": 5,
   "metadata": {},
   "outputs": [
    {
     "data": {
      "text/plain": [
       "154"
      ]
     },
     "execution_count": 5,
     "metadata": {},
     "output_type": "execute_result"
    }
   ],
   "source": [
    "clean = []\n",
    "for i in result_copy:\n",
    "    if i != None:\n",
    "        clean.append(i[0])\n",
    "len(clean)"
   ]
  },
  {
   "cell_type": "code",
   "execution_count": 6,
   "metadata": {},
   "outputs": [],
   "source": [
    "store = []\n",
    "for i in result_copy:\n",
    "    if i != None:\n",
    "        store.append(i)"
   ]
  },
  {
   "cell_type": "code",
   "execution_count": 7,
   "metadata": {},
   "outputs": [
    {
     "data": {
      "text/plain": [
       "2"
      ]
     },
     "execution_count": 7,
     "metadata": {},
     "output_type": "execute_result"
    }
   ],
   "source": [
    "miss_list = []\n",
    "for data in list(plateifu):\n",
    "    if data in clean:\n",
    "        pass\n",
    "    else:\n",
    "        miss_list.append(data)\n",
    "\n",
    "len(miss_list)"
   ]
  },
  {
   "cell_type": "code",
   "execution_count": 8,
   "metadata": {},
   "outputs": [
    {
     "name": "stderr",
     "output_type": "stream",
     "text": [
      "  0%|          | 0/2 [00:00<?, ?it/s]\u001b[1;33m[WARNING]: \u001b[0m\u001b[0;39mCreating an ndarray from ragged nested sequences (which is a list-or-tuple of lists-or-tuples-or ndarrays with different lengths or shapes) is deprecated. If you meant to do this, you must specify 'dtype=object' when creating the ndarray.\u001b[0m \u001b[0;36m(VisibleDeprecationWarning)\u001b[0m\n",
      "100%|██████████| 2/2 [00:11<00:00,  5.54s/it]\n"
     ]
    }
   ],
   "source": [
    "miss_results = []\n",
    "for i in tqdm(miss_list):\n",
    "    result = Simpler_Classifier.fit_test(i)\n",
    "    miss_results.append(result)"
   ]
  },
  {
   "cell_type": "code",
   "execution_count": 9,
   "metadata": {},
   "outputs": [
    {
     "data": {
      "text/plain": [
       "2"
      ]
     },
     "execution_count": 9,
     "metadata": {},
     "output_type": "execute_result"
    }
   ],
   "source": [
    "clean_2 = []\n",
    "for i in miss_results:\n",
    "    if i != None:\n",
    "        clean_2.append(i[0])\n",
    "len(clean_2)"
   ]
  },
  {
   "cell_type": "code",
   "execution_count": 10,
   "metadata": {},
   "outputs": [
    {
     "data": {
      "text/plain": [
       "156"
      ]
     },
     "execution_count": 10,
     "metadata": {},
     "output_type": "execute_result"
    }
   ],
   "source": [
    "for i in miss_results:\n",
    "    if i != None:\n",
    "        store.append(i)\n",
    "len(store)"
   ]
  },
  {
   "cell_type": "code",
   "execution_count": 11,
   "metadata": {},
   "outputs": [
    {
     "data": {
      "text/plain": [
       "0"
      ]
     },
     "execution_count": 11,
     "metadata": {},
     "output_type": "execute_result"
    }
   ],
   "source": [
    "miss_list_2 = []\n",
    "for i in miss_list:\n",
    "    if i in clean_2:\n",
    "        pass\n",
    "    else:\n",
    "        miss_list_2.append(i)\n",
    "len(miss_list_2)"
   ]
  },
  {
   "cell_type": "code",
   "execution_count": 12,
   "metadata": {},
   "outputs": [
    {
     "name": "stderr",
     "output_type": "stream",
     "text": [
      "0it [00:00, ?it/s]\n"
     ]
    }
   ],
   "source": [
    "miss_results_2 = []\n",
    "for i in tqdm(miss_list_2):\n",
    "    result = Simpler_Classifier.fit_test(i)\n",
    "    miss_results_2.append(result)"
   ]
  },
  {
   "cell_type": "code",
   "execution_count": 13,
   "metadata": {},
   "outputs": [],
   "source": [
    "for i in miss_results_2:\n",
    "    store.append(i)"
   ]
  },
  {
   "cell_type": "code",
   "execution_count": 14,
   "metadata": {},
   "outputs": [
    {
     "data": {
      "text/plain": [
       "156"
      ]
     },
     "execution_count": 14,
     "metadata": {},
     "output_type": "execute_result"
    }
   ],
   "source": [
    "len(store)"
   ]
  },
  {
   "cell_type": "code",
   "execution_count": 15,
   "metadata": {},
   "outputs": [],
   "source": [
    "pla_re = []\n",
    "fit = []\n",
    "center = []\n",
    "scale = []\n",
    "sig = []\n",
    "\n",
    "for i in store:\n",
    "    if i != None:\n",
    "        pla_re.append(i[0])\n",
    "        fit.append(i[1])\n",
    "        center.append(i[2])\n",
    "        scale.append(i[3])\n",
    "        sig.append(i[4])\n",
    "\n",
    "        \n",
    "    else:\n",
    "        pass\n",
    "\n",
    "        \n",
    "#img_array = np.array(value)\n",
    "#ima_res = img_array.imag"
   ]
  },
  {
   "cell_type": "code",
   "execution_count": 16,
   "metadata": {},
   "outputs": [],
   "source": [
    "if len(store) == 156:\n",
    "\n",
    "    c1 = fits.Column(name='plateifu', array=np.array(pla_re), format='20A')\n",
    "    c2 = fits.Column(name='scale_min', array=np.array(scale), format='E')\n",
    "    c3 = fits.Column(name='center_max', array=np.array(center), format='E')\n",
    "    c4 = fits.Column(name='sig_max', array=np.array(sig), format='E')\n",
    "    c5 = fits.Column(name='fitness', array=np.array(fit), format='E')\n",
    "\n",
    "    t = fits.BinTableHDU.from_columns([c1, c2, c3, c4, c5])\n",
    "    t.writeto('0831sample_sqrt_fit.fits')\n",
    "else:\n",
    "    pass"
   ]
  },
  {
   "cell_type": "code",
   "execution_count": 17,
   "metadata": {},
   "outputs": [
    {
     "data": {
      "text/plain": [
       "156"
      ]
     },
     "execution_count": 17,
     "metadata": {},
     "output_type": "execute_result"
    }
   ],
   "source": [
    "len(store)"
   ]
  },
  {
   "cell_type": "markdown",
   "metadata": {},
   "source": [
    "for i in store:\n",
    "    x = [1,2,3,4]\n",
    "    y = []\n",
    "    for n in i[1][1]:\n",
    "        nn = np.sign(n) * np.log10(abs(n))\n",
    "        y.append(nn)\n",
    "    plt.plot(x, y)\n",
    "    \n",
    "plt.show()"
   ]
  },
  {
   "cell_type": "markdown",
   "metadata": {},
   "source": [
    "y = []\n",
    "for i in store:\n",
    "    a=i[1][1][0]/i[1][1][2]\n",
    "    b=i[1][1][1]/i[1][1][3]\n",
    "    y.append([i[0], abs(a-b)])\n",
    "    \n",
    "    \n",
    "#x = np.linspace(0,156,156)\n",
    "#y.sort()\n",
    "y.sort()"
   ]
  },
  {
   "cell_type": "code",
   "execution_count": null,
   "metadata": {},
   "outputs": [],
   "source": []
  }
 ],
 "metadata": {
  "kernelspec": {
   "display_name": "Python 3",
   "language": "python",
   "name": "python3"
  },
  "language_info": {
   "codemirror_mode": {
    "name": "ipython",
    "version": 3
   },
   "file_extension": ".py",
   "mimetype": "text/x-python",
   "name": "python",
   "nbconvert_exporter": "python",
   "pygments_lexer": "ipython3",
   "version": "3.7.3"
  }
 },
 "nbformat": 4,
 "nbformat_minor": 2
}

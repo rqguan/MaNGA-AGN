{
 "cells": [
  {
   "cell_type": "code",
   "execution_count": 4,
   "metadata": {},
   "outputs": [],
   "source": [
    "import numpy as np\n",
    "import cv2\n",
    "import scipy as scipy\n",
    "import matplotlib.pyplot as plt\n",
    "from astropy.io import fits\n",
    "import polarTransform\n",
    "from astropy.utils.data import get_pkg_data_filename"
   ]
  },
  {
   "cell_type": "code",
   "execution_count": 5,
   "metadata": {},
   "outputs": [],
   "source": [
    "# Find the nth occurance to resolve the repetition of '-'\n",
    "# For later use\n",
    "def find_nth(haystack, needle, n):\n",
    "    start = haystack.find(needle)\n",
    "    while start >= 0 and n > 1:\n",
    "        start = haystack.find(needle, start+len(needle))\n",
    "        n -= 1\n",
    "    return start"
   ]
  },
  {
   "cell_type": "code",
   "execution_count": 9,
   "metadata": {},
   "outputs": [],
   "source": [
    "def generate_profile_histogram(PATH):\n",
    "    \n",
    "    # Input: File Path\n",
    "    # Outout: Smoothened histogarm, plateifu\n",
    "    \n",
    "    # Load MAPS:\n",
    "    image_file = get_pkg_data_filename(PATH)\n",
    "    \n",
    "    # Gaussian-fitted equivalent widths measurements \n",
    "    EMLINE_GEW = fits.getdata(image_file, ext=33)\n",
    "    \n",
    "    # Transform to polar coordinate\n",
    "    cartesianImage = EMLINE_GEW[16]\n",
    "    # Set center of image(just in case)\n",
    "    w = EMLINE_GEW[16].shape[0]\n",
    "    h = EMLINE_GEW[16].shape[1]\n",
    "    # Generate polarImage\n",
    "    polarImage, ptSettings = polarTransform.convertToPolarImage(EMLINE_GEW[16], center=[round(w/2), round(h/2)])\n",
    "    \n",
    "    # Integrate the column\n",
    "    EW_COL = [sum(x)/polarImage.T.shape[0] for x in zip(*polarImage.T)]\n",
    "\n",
    "    # Exclude outlier using 3-sigma variant\n",
    "    mean = np.mean(EW_COL)\n",
    "    sd = np.std(EW_COL)\n",
    "    EW_CLEAN = [x for x in EW_COL if (x > mean - 2 * sd)]\n",
    "    EW_CLEAN = [x for x in EW_CLEAN if (x < mean + 2 * sd)]\n",
    "    # Smoothening the curve using Gaussian filter\n",
    "    EW_SMO = scipy.ndimage.gaussian_filter(EW_CLEAN, sigma = 5)\n",
    "\n",
    "    # To better identify the feature, plot two cycles of the galaxy\n",
    "    EW_SMO_TW = list(np.append(EW_SMO, EW_SMO))\n",
    "\n",
    "    # limited the array to exactly one cycle: but from min to min\n",
    "    min_index = min(EW_SMO_TW) # find min value\n",
    "    start_index = [i for i, n in enumerate(EW_SMO_TW) if n == min_index][0] # find index of 1st min\n",
    "    end_index = [i for i, n in enumerate(EW_SMO_TW) if n == min_index][1] # find index of 2nd min\n",
    "    trunc_EW = np.array(EW_SMO_TW[start_index:end_index]) # truncate from 1st to 2nd min\n",
    "    \n",
    "    # Normalization \n",
    "    norm = np.linalg.norm(trunc_EW)\n",
    "    norm_EW = trunc_EW/norm\n",
    "    \n",
    "    # Make them all to the same length through interpolation\n",
    "    x = np.linspace(0,len(norm_EW),len(norm_EW))\n",
    "    y = norm_EW\n",
    "    x2 = np.linspace(0,len(norm_EW),500)\n",
    "    f_linear = scipy.interpolate.interp1d(x, y)\n",
    "    intp_EW = f_linear(x2)\n",
    "    \n",
    "    #extract plateifu\n",
    "    idx1 = find_nth(PATH, '-', 1) \n",
    "    idx3 = find_nth(PATH, '-', 3)\n",
    "    plateifu = PATH[idx1+1:idx3]\n",
    "    \n",
    "    \n",
    "    \n",
    "    return inpt_EW, plateifu"
   ]
  },
  {
   "cell_type": "code",
   "execution_count": null,
   "metadata": {},
   "outputs": [],
   "source": [
    "def calculate_maximum(test):\n",
    "    \n",
    "    # Calculate the loss between the test galaxy and the 17 bicone galaxy\n",
    "    \n",
    "    test_EW = test[1]\n",
    "    \n",
    "    # Load examples\n",
    "    BC_PATH = '/Users/runquanguan/Documents/Research/MaNGA-AGN/Pipeline&Instrction/obvious_bicone_feature_position.fits'\n",
    "    FOLDER = '/Users/runquanguan/Documents/Research/MaNGA-AGN/Data/'\n",
    "    \n",
    "    hdul = fits.open(BC_PATH)\n",
    "    hdu = hdul[1].data\n",
    "    for data in hdu:\n",
    "        plateifu = str(data[0])\n",
    "        FILENAME = 'manga-' + plateifu + '-MAPS-SPX-MILESHC-MASTARSSP.fits'\n",
    "        FILE_PATH = FOLDER+FILENAME\n",
    "        BC_HIST = generate_profile_histogram(FILE_PATH)[1]\n",
    "    \n",
    "        # Do the calculation\n",
    "        target_EW = \n",
    "    \n",
    "    \n",
    "    \n",
    "    \n",
    "    "
   ]
  },
  {
   "cell_type": "code",
   "execution_count": 8,
   "metadata": {},
   "outputs": [
    {
     "data": {
      "text/plain": [
       "10"
      ]
     },
     "execution_count": 8,
     "metadata": {},
     "output_type": "execute_result"
    }
   ],
   "source": [
    "a = np.array([3,4,5,6,7])\n",
    "b = np.array([1,2,3,4,5])\n",
    "\n"
   ]
  },
  {
   "cell_type": "code",
   "execution_count": null,
   "metadata": {},
   "outputs": [],
   "source": []
  }
 ],
 "metadata": {
  "kernelspec": {
   "display_name": "Python 3",
   "language": "python",
   "name": "python3"
  },
  "language_info": {
   "codemirror_mode": {
    "name": "ipython",
    "version": 3
   },
   "file_extension": ".py",
   "mimetype": "text/x-python",
   "name": "python",
   "nbconvert_exporter": "python",
   "pygments_lexer": "ipython3",
   "version": "3.7.3"
  }
 },
 "nbformat": 4,
 "nbformat_minor": 2
}

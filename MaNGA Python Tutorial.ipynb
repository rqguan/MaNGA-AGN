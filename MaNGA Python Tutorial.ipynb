{
 "cells": [
  {
   "cell_type": "markdown",
   "metadata": {},
   "source": [
    "## Reading in a datacube\n",
    "Let's import some needed python modules and load the datacube file. These python modules can be found as part of astroconda. A description of the different extensions for the MaNGA CUBE files can be found in its datamodel."
   ]
  },
  {
   "cell_type": "code",
   "execution_count": 40,
   "metadata": {},
   "outputs": [],
   "source": [
    "import os     #importing some python modules\n",
    "import numpy as np\n",
    "import matplotlib.pyplot as plt\n",
    "from astropy import wcs\n",
    "from astropy.io import fits\n",
    "\n",
    "cube = fits.open(r'/Users/runquanguan/Documents/manga-7443-12703-LOGCUBE.fits.gz')    \n",
    "#assumes you are in the same directory as the cube file\n",
    "\n",
    "# reading in and re-ordering FLUX, IVAR, and MASK arrays from (wavelength, y, x) to (x, y, wavelength).\n",
    "flux = np.transpose(cube['FLUX'].data, axes=(2, 1, 0))\n",
    "ivar = np.transpose(cube['IVAR'].data, axes=(2, 1, 0))\n",
    "mask = np.transpose(cube['MASK'].data, axes=(2, 1, 0))\n",
    "\n",
    "wave = cube['WAVE'].data   #reading in wavelength\n",
    "flux_header = cube['FLUX'].header   #reading in the header of the flux extension"
   ]
  },
  {
   "cell_type": "markdown",
   "metadata": {},
   "source": [
    "Note: For convenience, we have reordered the axes of the data arrays to the intended ordering of (x,y,λ); see the discussion of array indexing on the Caveats page. In the flux, ivar, and mask arrays, (x=0, y=0) corresponds to the upper left if North is up and East is left.\n",
    "\n",
    "Try looking at the shapes of the transposed arrays to get a better understanding of the how the cube files look."
   ]
  },
  {
   "cell_type": "code",
   "execution_count": 41,
   "metadata": {},
   "outputs": [
    {
     "name": "stdout",
     "output_type": "stream",
     "text": [
      "(74, 74, 4563)\n",
      "(74, 74, 4563)\n",
      "(74, 74, 4563)\n",
      "(4563,)\n"
     ]
    }
   ],
   "source": [
    "print(flux.shape)   #should print (74, 74, 4563)\n",
    "print(ivar.shape)   #should print (74, 74, 4563)\n",
    "print(mask.shape)   #should print (74, 74, 4563)\n",
    "print(wave.shape)   #should print (4563,)"
   ]
  },
  {
   "cell_type": "markdown",
   "metadata": {},
   "source": [
    "This cube is 74 by 74 spatial pixels (spaxels) and there are 4563 spectral pixels in wavelength. Each position in x and y has a full spectrum, hence a datacube!\n",
    "## Plot a spectrum from a datacube\n",
    "Let's plot the central spectrum of the datacube."
   ]
  },
  {
   "cell_type": "code",
   "execution_count": 42,
   "metadata": {},
   "outputs": [
    {
     "data": {
      "image/png": "[encoded data removed]",
      "text/plain": [
       "<Figure size 432x288 with 1 Axes>"
      ]
     },
     "metadata": {
      "needs_background": "light"
     },
     "output_type": "display_data"
    }
   ],
   "source": [
    "x_center = np.int(flux_header['CRPIX1']) - 1   #finding the middle pixel in x\n",
    "y_center = np.int(flux_header['CRPIX2']) - 1   #finding the middle pixel in y\n",
    "\n",
    "plt.plot(wave, flux[x_center, y_center])\n",
    "plt.xlabel('wavelength (Ang)')\n",
    "plt.ylabel(flux_header['BUNIT'])\n",
    "plt.show()"
   ]
  },
  {
   "cell_type": "markdown",
   "metadata": {},
   "source": [
    "Try plotting the flux at other positions in the cube, other than the center. Remember that the MaNGA IFU field of view is a hexagon, so in the corners and some edges there will not be any flux.\n",
    "## Find array indices in CUBE of a particular RA and DEC\n",
    "We can use the wcs package in astropy to map between cube indices and right ascension (RA) and declination (dec) using the information given in the flux header. In this example, we want to find what spaxel corresponds to a given RA and dec."
   ]
  },
  {
   "cell_type": "code",
   "execution_count": 45,
   "metadata": {},
   "outputs": [
    {
     "name": "stdout",
     "output_type": "stream",
     "text": [
      "37 37\n"
     ]
    }
   ],
   "source": [
    "cubeWCS = wcs.WCS(flux_header)\n",
    "ra = 229.525580000   #desired RA\n",
    "dec = 42.7458420000  #desired dec\n",
    "x_cube_coord, y_cube_coord, __ = cubeWCS.wcs_world2pix([[ra, dec, 1.]], 1)[0]\n",
    "x_spaxel = np.int(np.round(x_cube_coord)) - 1  #corresponding x spaxel position\n",
    "y_spaxel = np.int(np.round(y_cube_coord)) - 1  #corresponding x spaxel position\n",
    "print(x_spaxel,y_spaxel)"
   ]
  },
  {
   "cell_type": "markdown",
   "metadata": {},
   "source": [
    "## Plot an H narrow band image from the datacube\n",
    "Here we will plot a H map, or narrow band image, from the datacube. It is good practice to apply the bitmasks."
   ]
  },
  {
   "cell_type": "code",
   "execution_count": 46,
   "metadata": {},
   "outputs": [],
   "source": [
    "do_not_use = (mask & 2**10) != 0   #finding the bad spaxels\n",
    "flux_m = np.ma.array(flux, mask=do_not_use)  #new masked flux array\n",
    "\n",
    "#Using the redshift of the galaxy, we can select the wavelength region around H\n",
    "\n",
    "redshift = 0.0402719   #redshift of this galaxy\n",
    "ind_wave = np.where((wave / (1 + redshift) > 6550) & (wave / (1 + redshift) < 6680))[0]  #finding the wavelegth range around H$\\alpha$\n",
    "halpha = flux_m[:, :, ind_wave].sum(axis=2)   #summing the fluxes at each spaxel in the wavelength range\n",
    "im = halpha.T\n",
    "\n",
    "# Convert from array indices to arcsec relative to IFU center\n",
    "dx = flux_header['CD1_1'] * 3600.  # deg to arcsec\n",
    "dy = flux_header['CD2_2'] * 3600.  # deg to arcsec\n",
    "x_extent = (np.array([0., im.shape[0]]) - (im.shape[0] - x_center)) * dx * (-1)\n",
    "y_extent = (np.array([0., im.shape[1]]) - (im.shape[1] - y_center)) * dy\n",
    "extent = [x_extent[0], x_extent[1], y_extent[0], y_extent[1]]"
   ]
  },
  {
   "cell_type": "code",
   "execution_count": 47,
   "metadata": {},
   "outputs": [
    {
     "data": {
      "image/png": "[encoded data removed]",
      "text/plain": [
       "<Figure size 432x288 with 2 Axes>"
      ]
     },
     "metadata": {
      "needs_background": "light"
     },
     "output_type": "display_data"
    }
   ],
   "source": [
    "#Generate the H map:\n",
    "\n",
    "plt.imshow(im, extent=extent, cmap=cm.YlGnBu_r, vmin=0.1, vmax=100, origin='lower', interpolation='none')\n",
    "plt.colorbar(label=flux_header['BUNIT'])\n",
    "plt.xlabel('arcsec')\n",
    "plt.ylabel('arcsec')\n",
    "plt.show()"
   ]
  },
  {
   "cell_type": "code",
   "execution_count": null,
   "metadata": {},
   "outputs": [],
   "source": []
  }
 ],
 "metadata": {
  "kernelspec": {
   "display_name": "Python 3",
   "language": "python",
   "name": "python3"
  },
  "language_info": {
   "codemirror_mode": {
    "name": "ipython",
    "version": 3
   },
   "file_extension": ".py",
   "mimetype": "text/x-python",
   "name": "python",
   "nbconvert_exporter": "python",
   "pygments_lexer": "ipython3",
   "version": "3.7.3"
  }
 },
 "nbformat": 4,
 "nbformat_minor": 2
}

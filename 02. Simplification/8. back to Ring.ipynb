{
 "cells": [
  {
   "cell_type": "code",
   "execution_count": 1,
   "metadata": {},
   "outputs": [
    {
     "name": "stderr",
     "output_type": "stream",
     "text": [
      "\u001b[0;34m[INFO]: \u001b[0mNo release version set. Setting default to DR17\n",
      "\u001b[1;33m[WARNING]: \u001b[0m\u001b[0;39mpath /Users/runquanguan/sas/mangawork/manga/spectro/redux/v3_1_1/drpall-v3_1_1.fits cannot be found. Setting drpall to None.\u001b[0m \u001b[0;36m(MarvinUserWarning)\u001b[0m\n",
      "\u001b[1;33m[WARNING]: \u001b[0m\u001b[0;39mpath /Users/runquanguan/sas/mangawork/manga/spectro/analysis/v3_1_1/3.1.0/dapall-v3_1_1-3.1.0.fits cannot be found. Setting dapall to None.\u001b[0m \u001b[0;36m(MarvinUserWarning)\u001b[0m\n",
      "\u001b[1;33m[WARNING]: \u001b[0m\u001b[0;39mPassing field metadata as keyword arguments is deprecated. Use the explicit `metadata=...` argument instead. Additional metadata: {'location': 'view_args'}\u001b[0m \u001b[0;36m(RemovedInMarshmallow4Warning)\u001b[0m\n",
      "\u001b[1;33m[WARNING]: \u001b[0m\u001b[0;39mThe 'missing' argument to fields is deprecated. Use 'load_default' instead.\u001b[0m \u001b[0;36m(RemovedInMarshmallow4Warning)\u001b[0m\n"
     ]
    }
   ],
   "source": [
    "import numpy as np\n",
    "from astropy.io import fits\n",
    "\n",
    "from tqdm import tqdm\n",
    "import matplotlib.pyplot as plt\n",
    "from scipy.fft import fft\n",
    "\n",
    "import platform, multiprocessing\n",
    "from multiprocessing import Pool\n",
    "\n",
    "import copy\n",
    "\n",
    "import Simpler_Classifier\n",
    "\n",
    "from importlib import reload \n"
   ]
  },
  {
   "cell_type": "markdown",
   "metadata": {},
   "source": [
    "my_module = reload(Simpler_Classifier) # reload of Simpler_Classifier without restart"
   ]
  },
  {
   "cell_type": "code",
   "execution_count": 2,
   "metadata": {},
   "outputs": [],
   "source": [
    "HEADER_PATH = '/Users/runquanguan/Documents/dapall_excluded.fits'\n",
    "hdul = fits.open(HEADER_PATH)\n",
    "hdu = hdul[1].data\n",
    "plateifu = hdu['plateifu']\n"
   ]
  },
  {
   "cell_type": "code",
   "execution_count": 3,
   "metadata": {},
   "outputs": [
    {
     "name": "stderr",
     "output_type": "stream",
     "text": [
      "100%|██████████| 10737/10737 [2:38:14<00:00,  1.13it/s] \n"
     ]
    }
   ],
   "source": [
    "if __name__ == '__main__':\n",
    "    if platform.system() == \"Darwin\":\n",
    "        multiprocessing.set_start_method('spawn')\n",
    "        pool = multiprocessing.Pool(processes=10)\n",
    "        results = []\n",
    "        for result in tqdm(pool.imap_unordered(Simpler_Classifier.ring_test, plateifu), total = len(plateifu)):\n",
    "            results.append(result)\n",
    "        pool.close()\n",
    "        pool.join() \n"
   ]
  },
  {
   "cell_type": "code",
   "execution_count": 4,
   "metadata": {},
   "outputs": [],
   "source": [
    "result_copy = copy.deepcopy(results)"
   ]
  },
  {
   "cell_type": "code",
   "execution_count": 5,
   "metadata": {},
   "outputs": [
    {
     "data": {
      "text/plain": [
       "10632"
      ]
     },
     "execution_count": 5,
     "metadata": {},
     "output_type": "execute_result"
    }
   ],
   "source": [
    "clean = []\n",
    "for i in result_copy:\n",
    "    if i != None:\n",
    "        clean.append(i[0])\n",
    "len(clean)\n"
   ]
  },
  {
   "cell_type": "code",
   "execution_count": 6,
   "metadata": {},
   "outputs": [],
   "source": [
    "store = []\n",
    "for i in result_copy:\n",
    "    if i != None:\n",
    "        store.append(i)"
   ]
  },
  {
   "cell_type": "code",
   "execution_count": 7,
   "metadata": {},
   "outputs": [
    {
     "data": {
      "text/plain": [
       "105"
      ]
     },
     "execution_count": 7,
     "metadata": {},
     "output_type": "execute_result"
    }
   ],
   "source": [
    "miss_list = []\n",
    "for data in list(plateifu):\n",
    "    if data in clean:\n",
    "        pass\n",
    "    else:\n",
    "        miss_list.append(data)\n",
    "\n",
    "len(miss_list)"
   ]
  },
  {
   "cell_type": "code",
   "execution_count": 8,
   "metadata": {},
   "outputs": [
    {
     "name": "stderr",
     "output_type": "stream",
     "text": [
      "  0%|          | 0/105 [00:00<?, ?it/s]\u001b[1;33m[WARNING]: \u001b[0m\u001b[0;39mCreating an ndarray from ragged nested sequences (which is a list-or-tuple of lists-or-tuples-or ndarrays with different lengths or shapes) is deprecated. If you meant to do this, you must specify 'dtype=object' when creating the ndarray.\u001b[0m \u001b[0;36m(VisibleDeprecationWarning)\u001b[0m\n",
      "100%|██████████| 105/105 [10:20<00:00,  5.91s/it]\n"
     ]
    }
   ],
   "source": [
    "miss_results = []\n",
    "for i in tqdm(miss_list):\n",
    "    result = Simpler_Classifier.ring_test(i)\n",
    "    miss_results.append(result)"
   ]
  },
  {
   "cell_type": "code",
   "execution_count": 9,
   "metadata": {},
   "outputs": [
    {
     "data": {
      "text/plain": [
       "59"
      ]
     },
     "execution_count": 9,
     "metadata": {},
     "output_type": "execute_result"
    }
   ],
   "source": [
    "clean_2 = []\n",
    "for i in miss_results:\n",
    "    if i != None:\n",
    "        clean_2.append(i[0])\n",
    "len(clean_2)"
   ]
  },
  {
   "cell_type": "code",
   "execution_count": 10,
   "metadata": {},
   "outputs": [
    {
     "data": {
      "text/plain": [
       "10691"
      ]
     },
     "execution_count": 10,
     "metadata": {},
     "output_type": "execute_result"
    }
   ],
   "source": [
    "for i in miss_results:\n",
    "    if i != None:\n",
    "        store.append(i)\n",
    "len(store)"
   ]
  },
  {
   "cell_type": "code",
   "execution_count": 11,
   "metadata": {},
   "outputs": [
    {
     "data": {
      "text/plain": [
       "46"
      ]
     },
     "execution_count": 11,
     "metadata": {},
     "output_type": "execute_result"
    }
   ],
   "source": [
    "miss_list_2 = []\n",
    "for i in miss_list:\n",
    "    if i in clean_2:\n",
    "        pass\n",
    "    else:\n",
    "        miss_list_2.append(i)\n",
    "len(miss_list_2)"
   ]
  },
  {
   "cell_type": "code",
   "execution_count": 12,
   "metadata": {},
   "outputs": [
    {
     "name": "stderr",
     "output_type": "stream",
     "text": [
      "100%|██████████| 46/46 [03:47<00:00,  4.94s/it]\n"
     ]
    }
   ],
   "source": [
    "miss_results_2 = []\n",
    "for i in tqdm(miss_list_2):\n",
    "    result = Simpler_Classifier.ring_test(i)\n",
    "    miss_results_2.append(result)"
   ]
  },
  {
   "cell_type": "code",
   "execution_count": 13,
   "metadata": {},
   "outputs": [
    {
     "data": {
      "text/plain": [
       "10737"
      ]
     },
     "execution_count": 13,
     "metadata": {},
     "output_type": "execute_result"
    }
   ],
   "source": [
    "for i in miss_results_2:\n",
    "    store.append(i)\n",
    "    \n",
    "len(store)"
   ]
  },
  {
   "cell_type": "code",
   "execution_count": 14,
   "metadata": {},
   "outputs": [],
   "source": [
    "plate_ifu = []\n",
    "check = []\n",
    "re_max = []\n",
    "\n",
    "\n",
    "\n",
    "for i in store:\n",
    "    if i != None:\n",
    "        plate_ifu.append(i[0])\n",
    "        check.append(i[1])\n",
    "        re_max.append(i[2])\n",
    "\n",
    "        \n",
    "    else:\n",
    "        pass\n",
    "\n",
    "        "
   ]
  },
  {
   "cell_type": "code",
   "execution_count": 15,
   "metadata": {},
   "outputs": [],
   "source": [
    "if len(store) == 10737:\n",
    "\n",
    "    c1 = fits.Column(name='plateifu', array=np.array(plate_ifu), format='20A')\n",
    "    c2 = fits.Column(name='check_percent', array=np.array(check), format='E')\n",
    "    c3 = fits.Column(name='re_max', array=np.array(re_max), format='E')\n",
    "\n",
    "\n",
    "    t = fits.BinTableHDU.from_columns([c1, c2, c3])\n",
    "    t.writeto('dapall_ring_check_v3.fits')\n",
    "else:\n",
    "    pass"
   ]
  },
  {
   "cell_type": "code",
   "execution_count": 16,
   "metadata": {},
   "outputs": [
    {
     "data": {
      "text/plain": [
       "10737"
      ]
     },
     "execution_count": 16,
     "metadata": {},
     "output_type": "execute_result"
    }
   ],
   "source": [
    "len(store)"
   ]
  },
  {
   "cell_type": "code",
   "execution_count": null,
   "metadata": {},
   "outputs": [],
   "source": []
  }
 ],
 "metadata": {
  "kernelspec": {
   "display_name": "Python 3",
   "language": "python",
   "name": "python3"
  },
  "language_info": {
   "codemirror_mode": {
    "name": "ipython",
    "version": 3
   },
   "file_extension": ".py",
   "mimetype": "text/x-python",
   "name": "python",
   "nbconvert_exporter": "python",
   "pygments_lexer": "ipython3",
   "version": "3.7.3"
  }
 },
 "nbformat": 4,
 "nbformat_minor": 2
}

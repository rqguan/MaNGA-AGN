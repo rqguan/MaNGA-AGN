{
 "cells": [
  {
   "cell_type": "code",
   "execution_count": 1,
   "metadata": {},
   "outputs": [
    {
     "name": "stderr",
     "output_type": "stream",
     "text": [
      "\u001b[0;34m[INFO]: \u001b[0mNo release version set. Setting default to DR17\n",
      "\u001b[1;33m[WARNING]: \u001b[0m\u001b[0;39mpath /Users/runquanguan/sas/mangawork/manga/spectro/redux/v3_1_1/drpall-v3_1_1.fits cannot be found. Setting drpall to None.\u001b[0m \u001b[0;36m(MarvinUserWarning)\u001b[0m\n",
      "\u001b[1;33m[WARNING]: \u001b[0m\u001b[0;39mpath /Users/runquanguan/sas/mangawork/manga/spectro/analysis/v3_1_1/3.1.0/dapall-v3_1_1-3.1.0.fits cannot be found. Setting dapall to None.\u001b[0m \u001b[0;36m(MarvinUserWarning)\u001b[0m\n",
      "\u001b[1;33m[WARNING]: \u001b[0m\u001b[0;39mPassing field metadata as keyword arguments is deprecated. Use the explicit `metadata=...` argument instead. Additional metadata: {'location': 'view_args'}\u001b[0m \u001b[0;36m(RemovedInMarshmallow4Warning)\u001b[0m\n",
      "\u001b[1;33m[WARNING]: \u001b[0m\u001b[0;39mThe 'missing' argument to fields is deprecated. Use 'load_default' instead.\u001b[0m \u001b[0;36m(RemovedInMarshmallow4Warning)\u001b[0m\n"
     ]
    }
   ],
   "source": [
    "import numpy as np\n",
    "from astropy.io import fits\n",
    "from marvin.tools import Maps\n",
    "import marvin.utils.plot.colorbar as colorbar\n",
    "from tqdm import tqdm\n",
    "import matplotlib.pyplot as plt\n",
    "#from matplotlib.colors import ListedColormap, LinearSegmentedColormap\n",
    "import scipy as scipy\n",
    "from scipy.fft import fft\n",
    "from scipy import ndimage\n",
    "\n",
    "import multiprocessing as mp\n",
    "from multiprocessing import Pool\n",
    "import copy\n",
    "\n",
    "import Simpler_Classifier\n",
    "\n",
    "from importlib import reload \n"
   ]
  },
  {
   "cell_type": "code",
   "execution_count": 5,
   "metadata": {},
   "outputs": [],
   "source": [
    "my_module = reload(Simpler_Classifier) # reload of Simpler_Classifier without restart"
   ]
  },
  {
   "cell_type": "code",
   "execution_count": 24,
   "metadata": {},
   "outputs": [],
   "source": [
    "data = '7990-3702'\n",
    "\n",
    "maps = Maps(data, bintype='SPX', template='MILESHC-MASTARSSP')\n",
    "\n",
    "phi = maps.spx_ellcoo_elliptical_azimuth.value #.round(decimals=2)\n",
    "r_re = maps.spx_ellcoo_r_re.value\n",
    "oiii_ew = Simpler_Classifier.ew_washing(data, snr=3)\n",
    "\n",
    "\n",
    "r_max = r_re.max()"
   ]
  },
  {
   "cell_type": "code",
   "execution_count": 53,
   "metadata": {},
   "outputs": [],
   "source": [
    "# Discrete Integration\n",
    "\n",
    "from scipy import interpolate\n",
    "\n",
    "x = r_re.flatten()\n",
    "y = phi.flatten()\n",
    "z = oiii_ew.flatten()\n",
    "f = interpolate.interp2d(x, y, z, kind='linear')\n",
    "\n",
    "\n",
    "\n",
    "xnew = np.linspace(0, r_max, 1000)\n",
    "ynew = np.linspace(0, 360, 1000)\n",
    "znew = f(xnew, ynew)\n"
   ]
  },
  {
   "cell_type": "code",
   "execution_count": 56,
   "metadata": {},
   "outputs": [
    {
     "data": {
      "image/png": "[encoded data removed]",
      "text/plain": [
       "<Figure size 640x480 with 1 Axes>"
      ]
     },
     "metadata": {},
     "output_type": "display_data"
    }
   ],
   "source": [
    "plt.imshow(znew[0:200])\n",
    "plt.show()"
   ]
  },
  {
   "cell_type": "code",
   "execution_count": 2,
   "metadata": {},
   "outputs": [],
   "source": [
    "HEADER_PATH = '/Users/runquanguan/Documents/dapall_excluded.fits'\n",
    "hdul = fits.open(HEADER_PATH)\n",
    "hdu = hdul[1].data\n",
    "plateifu = hdu['PLATEIFU']\n",
    "\n",
    "\n",
    "def selector(data):\n",
    "    if len(data) >= 4:\n",
    "        try:\n",
    "            curve = Simpler_Classifier.integra_r_dir(data)\n",
    "            result = Simpler_Classifier.fourier_classifier(curve)\n",
    "\n",
    "            if result[1][1] == 3 and result[4] <= 30:\n",
    "                return data\n",
    "            else:\n",
    "                pass\n",
    "        except:\n",
    "            pass\n",
    "    else:\n",
    "        pass"
   ]
  },
  {
   "cell_type": "code",
   "execution_count": 3,
   "metadata": {},
   "outputs": [
    {
     "name": "stderr",
     "output_type": "stream",
     "text": [
      "\u001b[1;33m[WARNING]: \u001b[0m\u001b[0;39mCreating an ndarray from ragged nested sequences (which is a list-or-tuple of lists-or-tuples-or ndarrays with different lengths or shapes) is deprecated. If you meant to do this, you must specify 'dtype=object' when creating the ndarray.\u001b[0m \u001b[0;36m(VisibleDeprecationWarning)\u001b[0m\n",
      "\u001b[1;33m[WARNING]: \u001b[0m\u001b[0;39mCreating an ndarray from ragged nested sequences (which is a list-or-tuple of lists-or-tuples-or ndarrays with different lengths or shapes) is deprecated. If you meant to do this, you must specify 'dtype=object' when creating the ndarray.\u001b[0m \u001b[0;36m(VisibleDeprecationWarning)\u001b[0m\n",
      "\u001b[1;33m[WARNING]: \u001b[0m\u001b[0;39mCreating an ndarray from ragged nested sequences (which is a list-or-tuple of lists-or-tuples-or ndarrays with different lengths or shapes) is deprecated. If you meant to do this, you must specify 'dtype=object' when creating the ndarray.\u001b[0m \u001b[0;36m(VisibleDeprecationWarning)\u001b[0m\n",
      "\u001b[1;33m[WARNING]: \u001b[0m\u001b[0;39mCreating an ndarray from ragged nested sequences (which is a list-or-tuple of lists-or-tuples-or ndarrays with different lengths or shapes) is deprecated. If you meant to do this, you must specify 'dtype=object' when creating the ndarray.\u001b[0m \u001b[0;36m(VisibleDeprecationWarning)\u001b[0m\n",
      "\u001b[1;33m[WARNING]: \u001b[0m\u001b[0;39mCreating an ndarray from ragged nested sequences (which is a list-or-tuple of lists-or-tuples-or ndarrays with different lengths or shapes) is deprecated. If you meant to do this, you must specify 'dtype=object' when creating the ndarray.\u001b[0m \u001b[0;36m(VisibleDeprecationWarning)\u001b[0m\n",
      "\u001b[1;33m[WARNING]: \u001b[0m\u001b[0;39mCreating an ndarray from ragged nested sequences (which is a list-or-tuple of lists-or-tuples-or ndarrays with different lengths or shapes) is deprecated. If you meant to do this, you must specify 'dtype=object' when creating the ndarray.\u001b[0m \u001b[0;36m(VisibleDeprecationWarning)\u001b[0m\n"
     ]
    }
   ],
   "source": [
    "if __name__ == '__main__':\n",
    "    pool = mp.Pool(processes=6)\n",
    "\n",
    "    results = []\n",
    "    for result in pool.imap_unordered(selector, plateifu):\n",
    "        results.append(result)\n",
    "    \n",
    "    pool.close()\n",
    "    pool.join() \n",
    "    #print(results)"
   ]
  },
  {
   "cell_type": "code",
   "execution_count": 4,
   "metadata": {},
   "outputs": [],
   "source": [
    "c1 = fits.Column(name='plateifu', array=np.array(results), format='20A')\n",
    "t = fits.BinTableHDU.from_columns([c1])\n",
    "t.writeto('simpler_FULL_AUTO_v1.fits')"
   ]
  },
  {
   "cell_type": "code",
   "execution_count": 6,
   "metadata": {},
   "outputs": [],
   "source": [
    "result_copy = copy.deepcopy(results)"
   ]
  },
  {
   "cell_type": "code",
   "execution_count": 7,
   "metadata": {},
   "outputs": [],
   "source": [
    "result_count = []\n",
    "for i in result_copy:\n",
    "    if i != None:\n",
    "        result_count.append(i)\n",
    "    else:\n",
    "        pass"
   ]
  },
  {
   "cell_type": "code",
   "execution_count": 8,
   "metadata": {},
   "outputs": [
    {
     "data": {
      "text/plain": [
       "1615"
      ]
     },
     "execution_count": 8,
     "metadata": {},
     "output_type": "execute_result"
    }
   ],
   "source": [
    "len(result_count)\n",
    "#list(plateifu)"
   ]
  },
  {
   "cell_type": "code",
   "execution_count": 20,
   "metadata": {},
   "outputs": [
    {
     "name": "stderr",
     "output_type": "stream",
     "text": [
      "DEBUG:marvin:local mode failed. Trying remote now.\n",
      "DEBUG:marvin:local mode failed. Trying remote now.\n",
      "DEBUG:marvin:local mode failed. Trying remote now.\n",
      "DEBUG:marvin:Local mode failed.  Trying remote.\n",
      "\u001b[1;33m[WARNING]: \u001b[0m\u001b[0;39msubprocess 71923 is still running\u001b[0m \u001b[0;36m(ResourceWarning)\u001b[0m\n",
      "WARNING:py.warnings:/Users/runquanguan/anaconda3/lib/python3.7/subprocess.py:858: ResourceWarning: subprocess 71923 is still running\n",
      "  ResourceWarning, source=self)\n",
      "\n",
      "DEBUG:marvin:local mode failed. Trying remote now.\n",
      "DEBUG:marvin:local mode failed. Trying remote now.\n",
      "DEBUG:marvin:local mode failed. Trying remote now.\n",
      "DEBUG:marvin:local mode failed. Trying remote now.\n",
      "DEBUG:marvin:Local mode failed.  Trying remote.\n",
      "\u001b[1;33m[WARNING]: \u001b[0m\u001b[0;39msubprocess 71931 is still running\u001b[0m \u001b[0;36m(ResourceWarning)\u001b[0m\n",
      "WARNING:py.warnings:/Users/runquanguan/anaconda3/lib/python3.7/subprocess.py:858: ResourceWarning: subprocess 71931 is still running\n",
      "  ResourceWarning, source=self)\n",
      "\n",
      "DEBUG:marvin:local mode failed. Trying remote now.\n",
      "DEBUG:marvin:local mode failed. Trying remote now.\n",
      "DEBUG:marvin:local mode failed. Trying remote now.\n",
      "DEBUG:marvin:local mode failed. Trying remote now.\n",
      "DEBUG:marvin:Local mode failed.  Trying remote.\n",
      "\u001b[1;33m[WARNING]: \u001b[0m\u001b[0;39msubprocess 71938 is still running\u001b[0m \u001b[0;36m(ResourceWarning)\u001b[0m\n",
      "WARNING:py.warnings:/Users/runquanguan/anaconda3/lib/python3.7/subprocess.py:858: ResourceWarning: subprocess 71938 is still running\n",
      "  ResourceWarning, source=self)\n",
      "\n",
      "DEBUG:marvin:local mode failed. Trying remote now.\n",
      "DEBUG:marvin:local mode failed. Trying remote now.\n",
      "DEBUG:marvin:local mode failed. Trying remote now.\n",
      "DEBUG:marvin:local mode failed. Trying remote now.\n",
      "DEBUG:marvin:Local mode failed.  Trying remote.\n",
      "\u001b[1;33m[WARNING]: \u001b[0m\u001b[0;39msubprocess 71944 is still running\u001b[0m \u001b[0;36m(ResourceWarning)\u001b[0m\n",
      "WARNING:py.warnings:/Users/runquanguan/anaconda3/lib/python3.7/subprocess.py:858: ResourceWarning: subprocess 71944 is still running\n",
      "  ResourceWarning, source=self)\n",
      "\n",
      "DEBUG:marvin:local mode failed. Trying remote now.\n",
      "DEBUG:marvin:local mode failed. Trying remote now.\n",
      "DEBUG:marvin:local mode failed. Trying remote now.\n",
      "DEBUG:marvin:local mode failed. Trying remote now.\n",
      "DEBUG:marvin:Local mode failed.  Trying remote.\n",
      "\u001b[1;33m[WARNING]: \u001b[0m\u001b[0;39msubprocess 71950 is still running\u001b[0m \u001b[0;36m(ResourceWarning)\u001b[0m\n",
      "WARNING:py.warnings:/Users/runquanguan/anaconda3/lib/python3.7/subprocess.py:858: ResourceWarning: subprocess 71950 is still running\n",
      "  ResourceWarning, source=self)\n",
      "\n",
      "DEBUG:marvin:local mode failed. Trying remote now.\n",
      "DEBUG:marvin:local mode failed. Trying remote now.\n",
      "DEBUG:marvin:local mode failed. Trying remote now.\n",
      "DEBUG:marvin:local mode failed. Trying remote now.\n",
      "DEBUG:marvin:Local mode failed.  Trying remote.\n",
      "\u001b[1;33m[WARNING]: \u001b[0m\u001b[0;39msubprocess 71956 is still running\u001b[0m \u001b[0;36m(ResourceWarning)\u001b[0m\n",
      "WARNING:py.warnings:/Users/runquanguan/anaconda3/lib/python3.7/subprocess.py:858: ResourceWarning: subprocess 71956 is still running\n",
      "  ResourceWarning, source=self)\n",
      "\n",
      "DEBUG:marvin:local mode failed. Trying remote now.\n",
      "DEBUG:marvin:local mode failed. Trying remote now.\n",
      "DEBUG:marvin:local mode failed. Trying remote now.\n",
      "DEBUG:marvin:local mode failed. Trying remote now.\n",
      "DEBUG:marvin:Local mode failed.  Trying remote.\n",
      "\u001b[1;33m[WARNING]: \u001b[0m\u001b[0;39msubprocess 71966 is still running\u001b[0m \u001b[0;36m(ResourceWarning)\u001b[0m\n",
      "WARNING:py.warnings:/Users/runquanguan/anaconda3/lib/python3.7/subprocess.py:858: ResourceWarning: subprocess 71966 is still running\n",
      "  ResourceWarning, source=self)\n",
      "\n",
      "DEBUG:marvin:local mode failed. Trying remote now.\n",
      "DEBUG:marvin:local mode failed. Trying remote now.\n",
      "DEBUG:marvin:local mode failed. Trying remote now.\n",
      "DEBUG:marvin:local mode failed. Trying remote now.\n",
      "DEBUG:marvin:Local mode failed.  Trying remote.\n",
      "\u001b[1;33m[WARNING]: \u001b[0m\u001b[0;39msubprocess 71972 is still running\u001b[0m \u001b[0;36m(ResourceWarning)\u001b[0m\n",
      "WARNING:py.warnings:/Users/runquanguan/anaconda3/lib/python3.7/subprocess.py:858: ResourceWarning: subprocess 71972 is still running\n",
      "  ResourceWarning, source=self)\n",
      "\n",
      "DEBUG:marvin:local mode failed. Trying remote now.\n",
      "DEBUG:marvin:local mode failed. Trying remote now.\n",
      "DEBUG:marvin:local mode failed. Trying remote now.\n",
      "DEBUG:marvin:local mode failed. Trying remote now.\n",
      "DEBUG:marvin:Local mode failed.  Trying remote.\n",
      "\u001b[1;33m[WARNING]: \u001b[0m\u001b[0;39msubprocess 71979 is still running\u001b[0m \u001b[0;36m(ResourceWarning)\u001b[0m\n",
      "WARNING:py.warnings:/Users/runquanguan/anaconda3/lib/python3.7/subprocess.py:858: ResourceWarning: subprocess 71979 is still running\n",
      "  ResourceWarning, source=self)\n",
      "\n",
      "DEBUG:marvin:local mode failed. Trying remote now.\n",
      "DEBUG:marvin:local mode failed. Trying remote now.\n",
      "DEBUG:marvin:local mode failed. Trying remote now.\n",
      "DEBUG:marvin:local mode failed. Trying remote now.\n",
      "DEBUG:marvin:Local mode failed.  Trying remote.\n",
      "\u001b[1;33m[WARNING]: \u001b[0m\u001b[0;39msubprocess 71985 is still running\u001b[0m \u001b[0;36m(ResourceWarning)\u001b[0m\n",
      "WARNING:py.warnings:/Users/runquanguan/anaconda3/lib/python3.7/subprocess.py:858: ResourceWarning: subprocess 71985 is still running\n",
      "  ResourceWarning, source=self)\n",
      "\n",
      "DEBUG:marvin:local mode failed. Trying remote now.\n",
      "DEBUG:marvin:local mode failed. Trying remote now.\n",
      "DEBUG:marvin:local mode failed. Trying remote now.\n",
      "DEBUG:marvin:local mode failed. Trying remote now.\n",
      "DEBUG:marvin:Local mode failed.  Trying remote.\n",
      "\u001b[1;33m[WARNING]: \u001b[0m\u001b[0;39msubprocess 71992 is still running\u001b[0m \u001b[0;36m(ResourceWarning)\u001b[0m\n",
      "WARNING:py.warnings:/Users/runquanguan/anaconda3/lib/python3.7/subprocess.py:858: ResourceWarning: subprocess 71992 is still running\n",
      "  ResourceWarning, source=self)\n",
      "\n",
      "DEBUG:marvin:local mode failed. Trying remote now.\n",
      "DEBUG:marvin:local mode failed. Trying remote now.\n",
      "DEBUG:marvin:local mode failed. Trying remote now.\n",
      "DEBUG:marvin:local mode failed. Trying remote now.\n",
      "DEBUG:marvin:Local mode failed.  Trying remote.\n",
      "\u001b[1;33m[WARNING]: \u001b[0m\u001b[0;39msubprocess 71998 is still running\u001b[0m \u001b[0;36m(ResourceWarning)\u001b[0m\n",
      "WARNING:py.warnings:/Users/runquanguan/anaconda3/lib/python3.7/subprocess.py:858: ResourceWarning: subprocess 71998 is still running\n",
      "  ResourceWarning, source=self)\n",
      "\n",
      "DEBUG:marvin:local mode failed. Trying remote now.\n",
      "DEBUG:marvin:local mode failed. Trying remote now.\n",
      "DEBUG:marvin:local mode failed. Trying remote now.\n",
      "DEBUG:marvin:local mode failed. Trying remote now.\n",
      "DEBUG:marvin:Local mode failed.  Trying remote.\n",
      "\u001b[1;33m[WARNING]: \u001b[0m\u001b[0;39msubprocess 72004 is still running\u001b[0m \u001b[0;36m(ResourceWarning)\u001b[0m\n",
      "WARNING:py.warnings:/Users/runquanguan/anaconda3/lib/python3.7/subprocess.py:858: ResourceWarning: subprocess 72004 is still running\n",
      "  ResourceWarning, source=self)\n",
      "\n",
      "DEBUG:marvin:local mode failed. Trying remote now.\n",
      "DEBUG:marvin:local mode failed. Trying remote now.\n",
      "DEBUG:marvin:local mode failed. Trying remote now.\n",
      "DEBUG:marvin:local mode failed. Trying remote now.\n",
      "DEBUG:marvin:Local mode failed.  Trying remote.\n",
      "\u001b[1;33m[WARNING]: \u001b[0m\u001b[0;39msubprocess 72010 is still running\u001b[0m \u001b[0;36m(ResourceWarning)\u001b[0m\n",
      "WARNING:py.warnings:/Users/runquanguan/anaconda3/lib/python3.7/subprocess.py:858: ResourceWarning: subprocess 72010 is still running\n",
      "  ResourceWarning, source=self)\n",
      "\n",
      "DEBUG:marvin:local mode failed. Trying remote now.\n",
      "DEBUG:marvin:local mode failed. Trying remote now.\n",
      "DEBUG:marvin:local mode failed. Trying remote now.\n",
      "DEBUG:marvin:local mode failed. Trying remote now.\n",
      "DEBUG:marvin:Local mode failed.  Trying remote.\n",
      "\u001b[1;33m[WARNING]: \u001b[0m\u001b[0;39msubprocess 72015 is still running\u001b[0m \u001b[0;36m(ResourceWarning)\u001b[0m\n",
      "WARNING:py.warnings:/Users/runquanguan/anaconda3/lib/python3.7/subprocess.py:858: ResourceWarning: subprocess 72015 is still running\n",
      "  ResourceWarning, source=self)\n",
      "\n",
      "DEBUG:marvin:local mode failed. Trying remote now.\n",
      "DEBUG:marvin:local mode failed. Trying remote now.\n",
      "DEBUG:marvin:local mode failed. Trying remote now.\n",
      "DEBUG:marvin:local mode failed. Trying remote now.\n",
      "DEBUG:marvin:Local mode failed.  Trying remote.\n",
      "\u001b[1;33m[WARNING]: \u001b[0m\u001b[0;39msubprocess 72023 is still running\u001b[0m \u001b[0;36m(ResourceWarning)\u001b[0m\n",
      "WARNING:py.warnings:/Users/runquanguan/anaconda3/lib/python3.7/subprocess.py:858: ResourceWarning: subprocess 72023 is still running\n",
      "  ResourceWarning, source=self)\n",
      "\n",
      "DEBUG:marvin:local mode failed. Trying remote now.\n"
     ]
    },
    {
     "name": "stderr",
     "output_type": "stream",
     "text": [
      "DEBUG:marvin:local mode failed. Trying remote now.\n",
      "DEBUG:marvin:local mode failed. Trying remote now.\n",
      "DEBUG:marvin:local mode failed. Trying remote now.\n",
      "DEBUG:marvin:Local mode failed.  Trying remote.\n",
      "\u001b[1;33m[WARNING]: \u001b[0m\u001b[0;39msubprocess 72029 is still running\u001b[0m \u001b[0;36m(ResourceWarning)\u001b[0m\n",
      "WARNING:py.warnings:/Users/runquanguan/anaconda3/lib/python3.7/subprocess.py:858: ResourceWarning: subprocess 72029 is still running\n",
      "  ResourceWarning, source=self)\n",
      "\n",
      "DEBUG:marvin:local mode failed. Trying remote now.\n",
      "DEBUG:marvin:local mode failed. Trying remote now.\n",
      "DEBUG:marvin:local mode failed. Trying remote now.\n",
      "DEBUG:marvin:local mode failed. Trying remote now.\n",
      "DEBUG:marvin:Local mode failed.  Trying remote.\n",
      "\u001b[1;33m[WARNING]: \u001b[0m\u001b[0;39msubprocess 72037 is still running\u001b[0m \u001b[0;36m(ResourceWarning)\u001b[0m\n",
      "WARNING:py.warnings:/Users/runquanguan/anaconda3/lib/python3.7/subprocess.py:858: ResourceWarning: subprocess 72037 is still running\n",
      "  ResourceWarning, source=self)\n",
      "\n",
      "DEBUG:marvin:local mode failed. Trying remote now.\n",
      "DEBUG:marvin:local mode failed. Trying remote now.\n",
      "DEBUG:marvin:local mode failed. Trying remote now.\n",
      "DEBUG:marvin:local mode failed. Trying remote now.\n",
      "DEBUG:marvin:Local mode failed.  Trying remote.\n",
      "\u001b[1;33m[WARNING]: \u001b[0m\u001b[0;39msubprocess 72042 is still running\u001b[0m \u001b[0;36m(ResourceWarning)\u001b[0m\n",
      "WARNING:py.warnings:/Users/runquanguan/anaconda3/lib/python3.7/subprocess.py:858: ResourceWarning: subprocess 72042 is still running\n",
      "  ResourceWarning, source=self)\n",
      "\n",
      "DEBUG:marvin:local mode failed. Trying remote now.\n",
      "DEBUG:marvin:local mode failed. Trying remote now.\n",
      "DEBUG:marvin:local mode failed. Trying remote now.\n",
      "DEBUG:marvin:local mode failed. Trying remote now.\n",
      "DEBUG:marvin:Local mode failed.  Trying remote.\n",
      "\u001b[1;33m[WARNING]: \u001b[0m\u001b[0;39msubprocess 72049 is still running\u001b[0m \u001b[0;36m(ResourceWarning)\u001b[0m\n",
      "WARNING:py.warnings:/Users/runquanguan/anaconda3/lib/python3.7/subprocess.py:858: ResourceWarning: subprocess 72049 is still running\n",
      "  ResourceWarning, source=self)\n",
      "\n",
      "DEBUG:marvin:local mode failed. Trying remote now.\n",
      "DEBUG:marvin:local mode failed. Trying remote now.\n",
      "DEBUG:marvin:local mode failed. Trying remote now.\n",
      "DEBUG:marvin:local mode failed. Trying remote now.\n",
      "DEBUG:marvin:Local mode failed.  Trying remote.\n",
      "\u001b[1;33m[WARNING]: \u001b[0m\u001b[0;39msubprocess 72056 is still running\u001b[0m \u001b[0;36m(ResourceWarning)\u001b[0m\n",
      "WARNING:py.warnings:/Users/runquanguan/anaconda3/lib/python3.7/subprocess.py:858: ResourceWarning: subprocess 72056 is still running\n",
      "  ResourceWarning, source=self)\n",
      "\n",
      "DEBUG:marvin:local mode failed. Trying remote now.\n",
      "DEBUG:marvin:local mode failed. Trying remote now.\n",
      "DEBUG:marvin:local mode failed. Trying remote now.\n",
      "DEBUG:marvin:local mode failed. Trying remote now.\n",
      "DEBUG:marvin:Local mode failed.  Trying remote.\n",
      "\u001b[1;33m[WARNING]: \u001b[0m\u001b[0;39msubprocess 72062 is still running\u001b[0m \u001b[0;36m(ResourceWarning)\u001b[0m\n",
      "WARNING:py.warnings:/Users/runquanguan/anaconda3/lib/python3.7/subprocess.py:858: ResourceWarning: subprocess 72062 is still running\n",
      "  ResourceWarning, source=self)\n",
      "\n",
      "DEBUG:marvin:local mode failed. Trying remote now.\n",
      "DEBUG:marvin:local mode failed. Trying remote now.\n",
      "DEBUG:marvin:local mode failed. Trying remote now.\n",
      "DEBUG:marvin:local mode failed. Trying remote now.\n",
      "DEBUG:marvin:Local mode failed.  Trying remote.\n",
      "\u001b[1;33m[WARNING]: \u001b[0m\u001b[0;39msubprocess 72068 is still running\u001b[0m \u001b[0;36m(ResourceWarning)\u001b[0m\n",
      "WARNING:py.warnings:/Users/runquanguan/anaconda3/lib/python3.7/subprocess.py:858: ResourceWarning: subprocess 72068 is still running\n",
      "  ResourceWarning, source=self)\n",
      "\n",
      "DEBUG:marvin:local mode failed. Trying remote now.\n",
      "DEBUG:marvin:local mode failed. Trying remote now.\n",
      "DEBUG:marvin:local mode failed. Trying remote now.\n",
      "DEBUG:marvin:local mode failed. Trying remote now.\n",
      "DEBUG:marvin:Local mode failed.  Trying remote.\n",
      "\u001b[1;33m[WARNING]: \u001b[0m\u001b[0;39msubprocess 72074 is still running\u001b[0m \u001b[0;36m(ResourceWarning)\u001b[0m\n",
      "WARNING:py.warnings:/Users/runquanguan/anaconda3/lib/python3.7/subprocess.py:858: ResourceWarning: subprocess 72074 is still running\n",
      "  ResourceWarning, source=self)\n",
      "\n",
      "DEBUG:marvin:local mode failed. Trying remote now.\n",
      "DEBUG:marvin:local mode failed. Trying remote now.\n",
      "DEBUG:marvin:local mode failed. Trying remote now.\n",
      "DEBUG:marvin:local mode failed. Trying remote now.\n",
      "DEBUG:marvin:Local mode failed.  Trying remote.\n",
      "\u001b[1;33m[WARNING]: \u001b[0m\u001b[0;39msubprocess 72080 is still running\u001b[0m \u001b[0;36m(ResourceWarning)\u001b[0m\n",
      "WARNING:py.warnings:/Users/runquanguan/anaconda3/lib/python3.7/subprocess.py:858: ResourceWarning: subprocess 72080 is still running\n",
      "  ResourceWarning, source=self)\n",
      "\n",
      "DEBUG:marvin:local mode failed. Trying remote now.\n"
     ]
    }
   ],
   "source": [
    "for data in list(plateifu):\n",
    "    if data in result_count:\n",
    "        pass\n",
    "    else:\n",
    "        curve = Simpler_Classifier.integra_r_dir(data)\n",
    "        result = Simpler_Classifier.fourier_classifier(curve)\n",
    "        Simpler_Classifier.plot_something(data)\n"
   ]
  },
  {
   "cell_type": "markdown",
   "metadata": {},
   "source": [
    "data = '7990-3702'\n",
    "curve = Simpler_Classifier.integra_r_dir(data, dphi = 5, snr = 10)\n",
    "result = Simpler_Classifier.fourier_classifier(curve)\n",
    "\n",
    "fig = plt.figure(figsize=(10, 5))\n",
    "fig.add_subplot(1, 2, 1)\n",
    "plt.plot(curve)\n",
    "fig.add_subplot(1, 2, 2)\n",
    "plt.plot(result[0])\n",
    "plt.show()\n",
    "plt.clf()"
   ]
  },
  {
   "cell_type": "code",
   "execution_count": 63,
   "metadata": {},
   "outputs": [],
   "source": [
    "plt.clf()"
   ]
  },
  {
   "cell_type": "markdown",
   "metadata": {},
   "source": [
    "# Plot result"
   ]
  },
  {
   "cell_type": "code",
   "execution_count": 57,
   "metadata": {},
   "outputs": [],
   "source": [
    "HEADER_PATH2 = '/Users/runquanguan/Documents/simpler_FULL_AUTO_v1.fits'\n",
    "hdul2 = fits.open(HEADER_PATH2)\n",
    "hdu2 = hdul2[1].data\n",
    "plateifu2 = hdu2['PLATEIFU']\n",
    "\n"
   ]
  },
  {
   "cell_type": "code",
   "execution_count": 71,
   "metadata": {},
   "outputs": [],
   "source": [
    "review = []\n",
    "for i in plateifu2:\n",
    "    if len(i) >= 6:\n",
    "        review.append(i)"
   ]
  },
  {
   "cell_type": "code",
   "execution_count": 58,
   "metadata": {},
   "outputs": [],
   "source": [
    "rand = np.random.randint(1615, size=30)"
   ]
  },
  {
   "cell_type": "code",
   "execution_count": 72,
   "metadata": {},
   "outputs": [
    {
     "data": {
      "text/plain": [
       "1615"
      ]
     },
     "execution_count": 72,
     "metadata": {},
     "output_type": "execute_result"
    }
   ],
   "source": [
    "len(review)"
   ]
  },
  {
   "cell_type": "code",
   "execution_count": 75,
   "metadata": {},
   "outputs": [],
   "source": [
    "def rand_check(randseed):\n",
    "    plateifu = review[randseed]\n",
    "    print(plateifu)\n",
    "    Simpler_Classifier.plot_something(plateifu)"
   ]
  },
  {
   "cell_type": "code",
   "execution_count": 76,
   "metadata": {},
   "outputs": [
    {
     "name": "stdout",
     "output_type": "stream",
     "text": [
      "9025-6103\n"
     ]
    },
    {
     "name": "stderr",
     "output_type": "stream",
     "text": [
      "\u001b[1;33m[WARNING]: \u001b[0m\u001b[0;39msubprocess 76439 is still running\u001b[0m \u001b[0;36m(ResourceWarning)\u001b[0m\n"
     ]
    },
    {
     "name": "stdout",
     "output_type": "stream",
     "text": [
      "11984-6103\n"
     ]
    },
    {
     "name": "stderr",
     "output_type": "stream",
     "text": [
      "\u001b[1;33m[WARNING]: \u001b[0m\u001b[0;39msubprocess 76448 is still running\u001b[0m \u001b[0;36m(ResourceWarning)\u001b[0m\n"
     ]
    },
    {
     "name": "stdout",
     "output_type": "stream",
     "text": [
      "8597-1901\n"
     ]
    },
    {
     "name": "stderr",
     "output_type": "stream",
     "text": [
      "\u001b[1;33m[WARNING]: \u001b[0m\u001b[0;39msubprocess 76455 is still running\u001b[0m \u001b[0;36m(ResourceWarning)\u001b[0m\n"
     ]
    },
    {
     "name": "stdout",
     "output_type": "stream",
     "text": [
      "8977-3704\n"
     ]
    },
    {
     "name": "stderr",
     "output_type": "stream",
     "text": [
      "\u001b[1;33m[WARNING]: \u001b[0m\u001b[0;39msubprocess 76462 is still running\u001b[0m \u001b[0;36m(ResourceWarning)\u001b[0m\n"
     ]
    },
    {
     "name": "stdout",
     "output_type": "stream",
     "text": [
      "12510-12701\n"
     ]
    },
    {
     "name": "stderr",
     "output_type": "stream",
     "text": [
      "\u001b[1;33m[WARNING]: \u001b[0m\u001b[0;39msubprocess 76469 is still running\u001b[0m \u001b[0;36m(ResourceWarning)\u001b[0m\n"
     ]
    },
    {
     "name": "stdout",
     "output_type": "stream",
     "text": [
      "9507-9102\n"
     ]
    },
    {
     "name": "stderr",
     "output_type": "stream",
     "text": [
      "\u001b[1;33m[WARNING]: \u001b[0m\u001b[0;39msubprocess 76474 is still running\u001b[0m \u001b[0;36m(ResourceWarning)\u001b[0m\n"
     ]
    },
    {
     "name": "stdout",
     "output_type": "stream",
     "text": [
      "10837-3701\n"
     ]
    },
    {
     "name": "stderr",
     "output_type": "stream",
     "text": [
      "\u001b[1;33m[WARNING]: \u001b[0m\u001b[0;39msubprocess 76482 is still running\u001b[0m \u001b[0;36m(ResourceWarning)\u001b[0m\n"
     ]
    },
    {
     "name": "stdout",
     "output_type": "stream",
     "text": [
      "9510-6102\n"
     ]
    },
    {
     "name": "stderr",
     "output_type": "stream",
     "text": [
      "\u001b[1;33m[WARNING]: \u001b[0m\u001b[0;39msubprocess 76497 is still running\u001b[0m \u001b[0;36m(ResourceWarning)\u001b[0m\n"
     ]
    },
    {
     "name": "stdout",
     "output_type": "stream",
     "text": [
      "8600-3704\n"
     ]
    },
    {
     "name": "stderr",
     "output_type": "stream",
     "text": [
      "\u001b[1;33m[WARNING]: \u001b[0m\u001b[0;39msubprocess 76505 is still running\u001b[0m \u001b[0;36m(ResourceWarning)\u001b[0m\n"
     ]
    },
    {
     "name": "stdout",
     "output_type": "stream",
     "text": [
      "9034-6101\n"
     ]
    },
    {
     "name": "stderr",
     "output_type": "stream",
     "text": [
      "\u001b[1;33m[WARNING]: \u001b[0m\u001b[0;39msubprocess 76512 is still running\u001b[0m \u001b[0;36m(ResourceWarning)\u001b[0m\n"
     ]
    },
    {
     "name": "stdout",
     "output_type": "stream",
     "text": [
      "8093-6103\n"
     ]
    },
    {
     "name": "stderr",
     "output_type": "stream",
     "text": [
      "\u001b[1;33m[WARNING]: \u001b[0m\u001b[0;39msubprocess 76518 is still running\u001b[0m \u001b[0;36m(ResourceWarning)\u001b[0m\n"
     ]
    },
    {
     "name": "stdout",
     "output_type": "stream",
     "text": [
      "9867-9102\n"
     ]
    },
    {
     "name": "stderr",
     "output_type": "stream",
     "text": [
      "\u001b[1;33m[WARNING]: \u001b[0m\u001b[0;39msubprocess 76524 is still running\u001b[0m \u001b[0;36m(ResourceWarning)\u001b[0m\n"
     ]
    },
    {
     "name": "stdout",
     "output_type": "stream",
     "text": [
      "8713-3703\n"
     ]
    },
    {
     "name": "stderr",
     "output_type": "stream",
     "text": [
      "\u001b[1;33m[WARNING]: \u001b[0m\u001b[0;39msubprocess 76530 is still running\u001b[0m \u001b[0;36m(ResourceWarning)\u001b[0m\n"
     ]
    },
    {
     "name": "stdout",
     "output_type": "stream",
     "text": [
      "8941-6102\n"
     ]
    },
    {
     "name": "stderr",
     "output_type": "stream",
     "text": [
      "\u001b[1;33m[WARNING]: \u001b[0m\u001b[0;39msubprocess 76537 is still running\u001b[0m \u001b[0;36m(ResourceWarning)\u001b[0m\n"
     ]
    },
    {
     "name": "stdout",
     "output_type": "stream",
     "text": [
      "8600-3702\n"
     ]
    },
    {
     "name": "stderr",
     "output_type": "stream",
     "text": [
      "\u001b[1;33m[WARNING]: \u001b[0m\u001b[0;39msubprocess 76545 is still running\u001b[0m \u001b[0;36m(ResourceWarning)\u001b[0m\n"
     ]
    },
    {
     "name": "stdout",
     "output_type": "stream",
     "text": [
      "8626-6104\n"
     ]
    },
    {
     "name": "stderr",
     "output_type": "stream",
     "text": [
      "\u001b[1;33m[WARNING]: \u001b[0m\u001b[0;39msubprocess 76553 is still running\u001b[0m \u001b[0;36m(ResourceWarning)\u001b[0m\n"
     ]
    },
    {
     "name": "stdout",
     "output_type": "stream",
     "text": [
      "9002-1901\n"
     ]
    },
    {
     "name": "stderr",
     "output_type": "stream",
     "text": [
      "\u001b[1;33m[WARNING]: \u001b[0m\u001b[0;39msubprocess 76560 is still running\u001b[0m \u001b[0;36m(ResourceWarning)\u001b[0m\n"
     ]
    },
    {
     "name": "stdout",
     "output_type": "stream",
     "text": [
      "8324-6103\n"
     ]
    },
    {
     "name": "stderr",
     "output_type": "stream",
     "text": [
      "\u001b[1;33m[WARNING]: \u001b[0m\u001b[0;39msubprocess 76567 is still running\u001b[0m \u001b[0;36m(ResourceWarning)\u001b[0m\n"
     ]
    },
    {
     "name": "stdout",
     "output_type": "stream",
     "text": [
      "11941-6103\n"
     ]
    },
    {
     "name": "stderr",
     "output_type": "stream",
     "text": [
      "\u001b[1;33m[WARNING]: \u001b[0m\u001b[0;39msubprocess 76575 is still running\u001b[0m \u001b[0;36m(ResourceWarning)\u001b[0m\n"
     ]
    },
    {
     "name": "stdout",
     "output_type": "stream",
     "text": [
      "8947-12702\n"
     ]
    },
    {
     "name": "stderr",
     "output_type": "stream",
     "text": [
      "\u001b[1;33m[WARNING]: \u001b[0m\u001b[0;39msubprocess 76582 is still running\u001b[0m \u001b[0;36m(ResourceWarning)\u001b[0m\n"
     ]
    },
    {
     "name": "stdout",
     "output_type": "stream",
     "text": [
      "10510-9102\n"
     ]
    },
    {
     "name": "stderr",
     "output_type": "stream",
     "text": [
      "\u001b[1;33m[WARNING]: \u001b[0m\u001b[0;39msubprocess 76588 is still running\u001b[0m \u001b[0;36m(ResourceWarning)\u001b[0m\n"
     ]
    },
    {
     "name": "stdout",
     "output_type": "stream",
     "text": [
      "9034-6101\n"
     ]
    },
    {
     "name": "stderr",
     "output_type": "stream",
     "text": [
      "\u001b[1;33m[WARNING]: \u001b[0m\u001b[0;39msubprocess 76594 is still running\u001b[0m \u001b[0;36m(ResourceWarning)\u001b[0m\n"
     ]
    },
    {
     "name": "stdout",
     "output_type": "stream",
     "text": [
      "7961-12701\n"
     ]
    },
    {
     "name": "stderr",
     "output_type": "stream",
     "text": [
      "\u001b[1;33m[WARNING]: \u001b[0m\u001b[0;39msubprocess 76601 is still running\u001b[0m \u001b[0;36m(ResourceWarning)\u001b[0m\n"
     ]
    },
    {
     "name": "stdout",
     "output_type": "stream",
     "text": [
      "11967-3703\n"
     ]
    },
    {
     "name": "stderr",
     "output_type": "stream",
     "text": [
      "\u001b[1;33m[WARNING]: \u001b[0m\u001b[0;39msubprocess 76606 is still running\u001b[0m \u001b[0;36m(ResourceWarning)\u001b[0m\n"
     ]
    },
    {
     "name": "stdout",
     "output_type": "stream",
     "text": [
      "7981-12703\n"
     ]
    },
    {
     "name": "stderr",
     "output_type": "stream",
     "text": [
      "\u001b[1;33m[WARNING]: \u001b[0m\u001b[0;39msubprocess 76613 is still running\u001b[0m \u001b[0;36m(ResourceWarning)\u001b[0m\n"
     ]
    },
    {
     "name": "stdout",
     "output_type": "stream",
     "text": [
      "8247-1901\n"
     ]
    },
    {
     "name": "stderr",
     "output_type": "stream",
     "text": [
      "\u001b[1;33m[WARNING]: \u001b[0m\u001b[0;39msubprocess 76619 is still running\u001b[0m \u001b[0;36m(ResourceWarning)\u001b[0m\n"
     ]
    },
    {
     "name": "stdout",
     "output_type": "stream",
     "text": [
      "9891-1901\n"
     ]
    },
    {
     "name": "stderr",
     "output_type": "stream",
     "text": [
      "\u001b[1;33m[WARNING]: \u001b[0m\u001b[0;39msubprocess 76626 is still running\u001b[0m \u001b[0;36m(ResourceWarning)\u001b[0m\n"
     ]
    },
    {
     "name": "stdout",
     "output_type": "stream",
     "text": [
      "10503-12704\n"
     ]
    },
    {
     "name": "stderr",
     "output_type": "stream",
     "text": [
      "\u001b[1;33m[WARNING]: \u001b[0m\u001b[0;39msubprocess 76632 is still running\u001b[0m \u001b[0;36m(ResourceWarning)\u001b[0m\n"
     ]
    },
    {
     "name": "stdout",
     "output_type": "stream",
     "text": [
      "12621-12703\n"
     ]
    },
    {
     "name": "stderr",
     "output_type": "stream",
     "text": [
      "\u001b[1;33m[WARNING]: \u001b[0m\u001b[0;39msubprocess 76638 is still running\u001b[0m \u001b[0;36m(ResourceWarning)\u001b[0m\n"
     ]
    },
    {
     "name": "stdout",
     "output_type": "stream",
     "text": [
      "8618-9101\n"
     ]
    },
    {
     "name": "stderr",
     "output_type": "stream",
     "text": [
      "\u001b[1;33m[WARNING]: \u001b[0m\u001b[0;39msubprocess 76644 is still running\u001b[0m \u001b[0;36m(ResourceWarning)\u001b[0m\n"
     ]
    }
   ],
   "source": [
    "for i in rand:\n",
    "    rand_check(i)"
   ]
  },
  {
   "cell_type": "markdown",
   "metadata": {},
   "source": [
    "if __name__ == '__main__':\n",
    "    pool = Pool()\n",
    "    pool.map(rand_check, rand)"
   ]
  },
  {
   "cell_type": "code",
   "execution_count": null,
   "metadata": {},
   "outputs": [],
   "source": []
  }
 ],
 "metadata": {
  "kernelspec": {
   "display_name": "Python 3",
   "language": "python",
   "name": "python3"
  },
  "language_info": {
   "codemirror_mode": {
    "name": "ipython",
    "version": 3
   },
   "file_extension": ".py",
   "mimetype": "text/x-python",
   "name": "python",
   "nbconvert_exporter": "python",
   "pygments_lexer": "ipython3",
   "version": "3.7.3"
  }
 },
 "nbformat": 4,
 "nbformat_minor": 2
}

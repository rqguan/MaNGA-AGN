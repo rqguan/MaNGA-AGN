{
 "cells": [
  {
   "cell_type": "code",
   "execution_count": 10,
   "metadata": {},
   "outputs": [],
   "source": [
    "import numpy as np\n",
    "from astropy.io import fits\n",
    "from marvin.tools import Maps\n",
    "import marvin.utils.plot.colorbar as colorbar\n",
    "from tqdm import tqdm\n",
    "import matplotlib.pyplot as plt\n",
    "#from matplotlib.colors import ListedColormap, LinearSegmentedColormap\n",
    "import scipy as scipy\n",
    "from scipy.fft import fft\n",
    "from scipy import ndimage\n",
    "\n",
    "import multiprocessing\n",
    "from multiprocessing import Pool\n",
    "import platform\n",
    "import copy\n",
    "\n",
    "import Simpler_Classifier\n",
    "\n",
    "from importlib import reload \n"
   ]
  },
  {
   "cell_type": "markdown",
   "metadata": {},
   "source": [
    "my_module = reload(Simpler_Classifier) # reload of Simpler_Classifier without restart"
   ]
  },
  {
   "cell_type": "code",
   "execution_count": 2,
   "metadata": {},
   "outputs": [],
   "source": [
    "# New criteria:\n",
    "# N [ivar > 0, mask NE 1, S/N>3] / N [ivar>0, mask Ne 1] >0.1\n",
    "# Inclination > 60 -- through DAP topcat"
   ]
  },
  {
   "cell_type": "markdown",
   "metadata": {},
   "source": [
    "HEADER_PATH = '/Users/runquanguan/Documents/bicone_training_set.fits'\n",
    "hdul = fits.open(HEADER_PATH)\n",
    "hdu = hdul[1].data\n",
    "plateifu = hdu['PLATEIFU']\n"
   ]
  },
  {
   "cell_type": "code",
   "execution_count": 3,
   "metadata": {},
   "outputs": [],
   "source": [
    "HEADER_PATH = '/Users/runquanguan/Documents/DAPALL_EXCL_INCL.fits'\n",
    "hdul = fits.open(HEADER_PATH)\n",
    "hdu = hdul[1].data\n",
    "plateifu = hdu['PLATEIFU']\n"
   ]
  },
  {
   "cell_type": "code",
   "execution_count": 4,
   "metadata": {},
   "outputs": [],
   "source": [
    "# good data:\n",
    "data_good = ['8083-3704','8311-12704','8602-6101','9892-3703','12089-3703','12491-3704']\n",
    "\n",
    "# bad data\n",
    "data_bad = ['7981-12702', '8135-12701', '8244-3704', '8312-9101', '8462-12705', '8596-9102']\n",
    "\n",
    "data = '7981-12702'"
   ]
  },
  {
   "cell_type": "markdown",
   "metadata": {},
   "source": [
    "for i in data_bad:\n",
    "    print(Simpler_Classifier.quality_test(i))"
   ]
  },
  {
   "cell_type": "markdown",
   "metadata": {},
   "source": [
    "for i in data_good:\n",
    "    print(Simpler_Classifier.quality_test(i))"
   ]
  },
  {
   "cell_type": "code",
   "execution_count": 5,
   "metadata": {},
   "outputs": [],
   "source": [
    "def shell(data):\n",
    "    try: \n",
    "        result = Simpler_Classifier.quality_test(data)\n",
    "        return result\n",
    "    except:\n",
    "        pass\n"
   ]
  },
  {
   "cell_type": "code",
   "execution_count": 12,
   "metadata": {},
   "outputs": [
    {
     "name": "stderr",
     "output_type": "stream",
     "text": [
      "  0%|          | 0/10737 [00:00<?, ?it/s]\u001b[1;33m[WARNING]: \u001b[0m\u001b[0;39mCannot retrieve URLMap. Remote functionality will not work: Requests Timeout Error: HTTPSConnectionPool(host='dr17.sdss.org', port=443): Read timed out. (read timeout=3.05)\u001b[0m \u001b[0;36m(MarvinUserWarning)\u001b[0m\n",
      "  0%|          | 1/10737 [00:04<13:55:51,  4.67s/it]\u001b[1;33m[WARNING]: \u001b[0m\u001b[0;39mCreating an ndarray from ragged nested sequences (which is a list-or-tuple of lists-or-tuples-or ndarrays with different lengths or shapes) is deprecated. If you meant to do this, you must specify 'dtype=object' when creating the ndarray.\u001b[0m \u001b[0;36m(VisibleDeprecationWarning)\u001b[0m\n",
      "100%|██████████| 10737/10737 [9:47:57<00:00,  3.29s/it]   \n"
     ]
    }
   ],
   "source": [
    "results = []\n",
    "\n",
    "for data in tqdm(plateifu):\n",
    "    try: \n",
    "        result = Simpler_Classifier.quality_test(data)\n",
    "        results.append(result)\n",
    "    except:\n",
    "        pass\n",
    "\n",
    "    "
   ]
  },
  {
   "cell_type": "markdown",
   "metadata": {},
   "source": [
    "if __name__ == '__main__':\n",
    "    if platform.system() == \"Darwin\":\n",
    "        multiprocessing.set_start_method('spawn')\n",
    "        pool = mp.Pool(processes=6)\n",
    "        results = []\n",
    "        for result in pool.imap_unordered(shell, plateifu):\n",
    "            results.append(result)\n",
    "        pool.close()\n",
    "        pool.join() \n",
    "        #print(results)"
   ]
  },
  {
   "cell_type": "code",
   "execution_count": 13,
   "metadata": {},
   "outputs": [],
   "source": [
    "result_copy = copy.deepcopy(results)"
   ]
  },
  {
   "cell_type": "code",
   "execution_count": 14,
   "metadata": {},
   "outputs": [
    {
     "data": {
      "text/plain": [
       "10674"
      ]
     },
     "execution_count": 14,
     "metadata": {},
     "output_type": "execute_result"
    }
   ],
   "source": [
    "clean = []\n",
    "for i in result_copy:\n",
    "    if i != None:\n",
    "        clean.append(i)\n",
    "len(clean)"
   ]
  },
  {
   "cell_type": "code",
   "execution_count": 15,
   "metadata": {},
   "outputs": [],
   "source": [
    "plateifu_l = []\n",
    "snr_l = []\n",
    "for data in clean:\n",
    "    plateifu_l.append(data[0])\n",
    "    snr_l.append(data[1])\n",
    "    \n",
    "    "
   ]
  },
  {
   "cell_type": "code",
   "execution_count": 37,
   "metadata": {},
   "outputs": [
    {
     "ename": "ValueError",
     "evalue": "invalid literal for int() with base 10: '0.9581151832460733'",
     "output_type": "error",
     "traceback": [
      "\u001b[0;31m---------------------------------------------------------------------------\u001b[0m",
      "\u001b[0;31mValueError\u001b[0m                                Traceback (most recent call last)",
      "\u001b[0;32m<ipython-input-37-a7b289b49d45>\u001b[0m in \u001b[0;36m<module>\u001b[0;34m\u001b[0m\n\u001b[1;32m      1\u001b[0m \u001b[0mc1\u001b[0m \u001b[0;34m=\u001b[0m \u001b[0mfits\u001b[0m\u001b[0;34m.\u001b[0m\u001b[0mColumn\u001b[0m\u001b[0;34m(\u001b[0m\u001b[0mname\u001b[0m\u001b[0;34m=\u001b[0m\u001b[0;34m'plateifu'\u001b[0m\u001b[0;34m,\u001b[0m \u001b[0marray\u001b[0m\u001b[0;34m=\u001b[0m\u001b[0mnp\u001b[0m\u001b[0;34m.\u001b[0m\u001b[0marray\u001b[0m\u001b[0;34m(\u001b[0m\u001b[0mplateifu_l\u001b[0m\u001b[0;34m)\u001b[0m\u001b[0;34m,\u001b[0m \u001b[0mformat\u001b[0m\u001b[0;34m=\u001b[0m\u001b[0;34m'20A'\u001b[0m\u001b[0;34m)\u001b[0m\u001b[0;34m\u001b[0m\u001b[0;34m\u001b[0m\u001b[0m\n\u001b[0;32m----> 2\u001b[0;31m \u001b[0mc2\u001b[0m \u001b[0;34m=\u001b[0m \u001b[0mfits\u001b[0m\u001b[0;34m.\u001b[0m\u001b[0mColumn\u001b[0m\u001b[0;34m(\u001b[0m\u001b[0mname\u001b[0m\u001b[0;34m=\u001b[0m\u001b[0;34m'SNR'\u001b[0m\u001b[0;34m,\u001b[0m \u001b[0marray\u001b[0m\u001b[0;34m=\u001b[0m\u001b[0mnp\u001b[0m\u001b[0;34m.\u001b[0m\u001b[0marray\u001b[0m\u001b[0;34m(\u001b[0m\u001b[0msnr_l\u001b[0m\u001b[0;34m)\u001b[0m\u001b[0;34m,\u001b[0m \u001b[0mformat\u001b[0m\u001b[0;34m=\u001b[0m\u001b[0;34m'int16'\u001b[0m\u001b[0;34m)\u001b[0m\u001b[0;34m\u001b[0m\u001b[0;34m\u001b[0m\u001b[0m\n\u001b[0m\u001b[1;32m      3\u001b[0m \u001b[0mt\u001b[0m \u001b[0;34m=\u001b[0m \u001b[0mfits\u001b[0m\u001b[0;34m.\u001b[0m\u001b[0mBinTableHDU\u001b[0m\u001b[0;34m.\u001b[0m\u001b[0mfrom_columns\u001b[0m\u001b[0;34m(\u001b[0m\u001b[0;34m[\u001b[0m\u001b[0mc1\u001b[0m\u001b[0;34m,\u001b[0m \u001b[0mc2\u001b[0m\u001b[0;34m]\u001b[0m\u001b[0;34m)\u001b[0m\u001b[0;34m\u001b[0m\u001b[0;34m\u001b[0m\u001b[0m\n\u001b[1;32m      4\u001b[0m \u001b[0mt\u001b[0m\u001b[0;34m.\u001b[0m\u001b[0mwriteto\u001b[0m\u001b[0;34m(\u001b[0m\u001b[0;34m'DAPALL_SNR3.fits'\u001b[0m\u001b[0;34m)\u001b[0m\u001b[0;34m\u001b[0m\u001b[0;34m\u001b[0m\u001b[0m\n",
      "\u001b[0;32m~/anaconda3/lib/python3.7/site-packages/astropy/io/fits/column.py\u001b[0m in \u001b[0;36m__init__\u001b[0;34m(self, name, format, unit, null, bscale, bzero, disp, start, dim, array, ascii, coord_type, coord_unit, coord_ref_point, coord_ref_value, coord_inc, time_ref_pos)\u001b[0m\n\u001b[1;32m    661\u001b[0m                                          'format `{}`.'.format(format))\n\u001b[1;32m    662\u001b[0m \u001b[0;34m\u001b[0m\u001b[0m\n\u001b[0;32m--> 663\u001b[0;31m         \u001b[0marray\u001b[0m \u001b[0;34m=\u001b[0m \u001b[0mself\u001b[0m\u001b[0;34m.\u001b[0m\u001b[0m_convert_to_valid_data_type\u001b[0m\u001b[0;34m(\u001b[0m\u001b[0marray\u001b[0m\u001b[0;34m)\u001b[0m\u001b[0;34m\u001b[0m\u001b[0;34m\u001b[0m\u001b[0m\n\u001b[0m\u001b[1;32m    664\u001b[0m \u001b[0;34m\u001b[0m\u001b[0m\n\u001b[1;32m    665\u001b[0m         \u001b[0;31m# We have required (through documentation) that arrays passed in to\u001b[0m\u001b[0;34m\u001b[0m\u001b[0;34m\u001b[0m\u001b[0;34m\u001b[0m\u001b[0m\n",
      "\u001b[0;32m~/anaconda3/lib/python3.7/site-packages/astropy/io/fits/column.py\u001b[0m in \u001b[0;36m_convert_to_valid_data_type\u001b[0;34m(self, array)\u001b[0m\n\u001b[1;32m   1341\u001b[0m                 \u001b[0mdtype\u001b[0m \u001b[0;34m=\u001b[0m \u001b[0mnp\u001b[0m\u001b[0;34m.\u001b[0m\u001b[0mdtype\u001b[0m\u001b[0;34m(\u001b[0m\u001b[0mnumpy_format\u001b[0m\u001b[0;34m)\u001b[0m\u001b[0;34m.\u001b[0m\u001b[0mbase\u001b[0m\u001b[0;34m\u001b[0m\u001b[0;34m\u001b[0m\u001b[0m\n\u001b[1;32m   1342\u001b[0m \u001b[0;34m\u001b[0m\u001b[0m\n\u001b[0;32m-> 1343\u001b[0;31m                 \u001b[0;32mreturn\u001b[0m \u001b[0m_convert_array\u001b[0m\u001b[0;34m(\u001b[0m\u001b[0marray\u001b[0m\u001b[0;34m,\u001b[0m \u001b[0mdtype\u001b[0m\u001b[0;34m)\u001b[0m\u001b[0;34m\u001b[0m\u001b[0;34m\u001b[0m\u001b[0m\n\u001b[0m\u001b[1;32m   1344\u001b[0m \u001b[0;34m\u001b[0m\u001b[0m\n\u001b[1;32m   1345\u001b[0m \u001b[0;34m\u001b[0m\u001b[0m\n",
      "\u001b[0;32m~/anaconda3/lib/python3.7/site-packages/astropy/io/fits/util.py\u001b[0m in \u001b[0;36m_convert_array\u001b[0;34m(array, dtype)\u001b[0m\n\u001b[1;32m    724\u001b[0m         \u001b[0;32mreturn\u001b[0m \u001b[0marray\u001b[0m\u001b[0;34m.\u001b[0m\u001b[0mview\u001b[0m\u001b[0;34m(\u001b[0m\u001b[0mdtype\u001b[0m\u001b[0;34m)\u001b[0m\u001b[0;34m\u001b[0m\u001b[0;34m\u001b[0m\u001b[0m\n\u001b[1;32m    725\u001b[0m     \u001b[0;32melse\u001b[0m\u001b[0;34m:\u001b[0m\u001b[0;34m\u001b[0m\u001b[0;34m\u001b[0m\u001b[0m\n\u001b[0;32m--> 726\u001b[0;31m         \u001b[0;32mreturn\u001b[0m \u001b[0marray\u001b[0m\u001b[0;34m.\u001b[0m\u001b[0mastype\u001b[0m\u001b[0;34m(\u001b[0m\u001b[0mdtype\u001b[0m\u001b[0;34m)\u001b[0m\u001b[0;34m\u001b[0m\u001b[0;34m\u001b[0m\u001b[0m\n\u001b[0m\u001b[1;32m    727\u001b[0m \u001b[0;34m\u001b[0m\u001b[0m\n\u001b[1;32m    728\u001b[0m \u001b[0;34m\u001b[0m\u001b[0m\n",
      "\u001b[0;31mValueError\u001b[0m: invalid literal for int() with base 10: '0.9581151832460733'"
     ]
    }
   ],
   "source": [
    "c1 = fits.Column(name='plateifu', array=np.array(plateifu_l), format='20A')\n",
    "c2 = fits.Column(name='SNR', array=np.array(snr_l), format='int16')\n",
    "t = fits.BinTableHDU.from_columns([c1, c2])\n",
    "t.writeto('DAPALL_SNR3.fits')"
   ]
  },
  {
   "cell_type": "code",
   "execution_count": 17,
   "metadata": {},
   "outputs": [
    {
     "data": {
      "text/plain": [
       "63"
      ]
     },
     "execution_count": 17,
     "metadata": {},
     "output_type": "execute_result"
    }
   ],
   "source": [
    "miss_l = []\n",
    "for i in plateifu:\n",
    "    if i in plateifu_l:\n",
    "        pass\n",
    "    else:\n",
    "        miss_l.append(i)\n",
    "        \n",
    "len(miss_l)"
   ]
  },
  {
   "cell_type": "code",
   "execution_count": 19,
   "metadata": {},
   "outputs": [
    {
     "name": "stderr",
     "output_type": "stream",
     "text": [
      "  0%|          | 0/63 [00:00<?, ?it/s]\u001b[1;33m[WARNING]: \u001b[0m\u001b[0;39mCreating an ndarray from ragged nested sequences (which is a list-or-tuple of lists-or-tuples-or ndarrays with different lengths or shapes) is deprecated. If you meant to do this, you must specify 'dtype=object' when creating the ndarray.\u001b[0m \u001b[0;36m(VisibleDeprecationWarning)\u001b[0m\n",
      "100%|██████████| 63/63 [08:34<00:00,  8.17s/it]\n"
     ]
    }
   ],
   "source": [
    "results2 = []\n",
    "\n",
    "for data in tqdm(miss_l):\n",
    "    try: \n",
    "        result2 = Simpler_Classifier.quality_test(data)\n",
    "        results2.append(result2)\n",
    "    except:\n",
    "        pass"
   ]
  },
  {
   "cell_type": "code",
   "execution_count": 20,
   "metadata": {},
   "outputs": [],
   "source": [
    "result_copy2 = copy.deepcopy(results2)"
   ]
  },
  {
   "cell_type": "code",
   "execution_count": 21,
   "metadata": {},
   "outputs": [
    {
     "data": {
      "text/plain": [
       "61"
      ]
     },
     "execution_count": 21,
     "metadata": {},
     "output_type": "execute_result"
    }
   ],
   "source": [
    "clean2 = []\n",
    "for i in result_copy2:\n",
    "    if i != None:\n",
    "        clean2.append(i)\n",
    "len(clean2)"
   ]
  },
  {
   "cell_type": "code",
   "execution_count": 22,
   "metadata": {},
   "outputs": [],
   "source": [
    "for data in clean2:\n",
    "    plateifu_l.append(data[0])\n",
    "    snr_l.append(data[1])"
   ]
  },
  {
   "cell_type": "code",
   "execution_count": 24,
   "metadata": {},
   "outputs": [
    {
     "data": {
      "text/plain": [
       "10735"
      ]
     },
     "execution_count": 24,
     "metadata": {},
     "output_type": "execute_result"
    }
   ],
   "source": [
    "len(plateifu_l)"
   ]
  },
  {
   "cell_type": "code",
   "execution_count": 25,
   "metadata": {},
   "outputs": [
    {
     "data": {
      "text/plain": [
       "2"
      ]
     },
     "execution_count": 25,
     "metadata": {},
     "output_type": "execute_result"
    }
   ],
   "source": [
    "miss_l_2 = []\n",
    "for i in plateifu:\n",
    "    if i in plateifu_l:\n",
    "        pass\n",
    "    else:\n",
    "        miss_l_2.append(i)\n",
    "        \n",
    "len(miss_l_2)"
   ]
  },
  {
   "cell_type": "code",
   "execution_count": 28,
   "metadata": {},
   "outputs": [
    {
     "name": "stderr",
     "output_type": "stream",
     "text": [
      "  0%|          | 0/2 [00:00<?, ?it/s]\u001b[1;33m[WARNING]: \u001b[0m\u001b[0;39mCreating an ndarray from ragged nested sequences (which is a list-or-tuple of lists-or-tuples-or ndarrays with different lengths or shapes) is deprecated. If you meant to do this, you must specify 'dtype=object' when creating the ndarray.\u001b[0m \u001b[0;36m(VisibleDeprecationWarning)\u001b[0m\n",
      "100%|██████████| 2/2 [00:11<00:00,  5.76s/it]\n"
     ]
    }
   ],
   "source": [
    "results3 = []\n",
    "\n",
    "for data in tqdm(miss_l_2):\n",
    "    try: \n",
    "        result3 = Simpler_Classifier.quality_test(data)\n",
    "        results3.append(result2)\n",
    "    except:\n",
    "        pass"
   ]
  },
  {
   "cell_type": "code",
   "execution_count": 29,
   "metadata": {},
   "outputs": [
    {
     "data": {
      "text/plain": [
       "('8982-1902', 1.0)"
      ]
     },
     "execution_count": 29,
     "metadata": {},
     "output_type": "execute_result"
    }
   ],
   "source": [
    "result3"
   ]
  },
  {
   "cell_type": "code",
   "execution_count": 30,
   "metadata": {},
   "outputs": [
    {
     "data": {
      "text/plain": [
       "['11746-12704', '8982-1902']"
      ]
     },
     "execution_count": 30,
     "metadata": {},
     "output_type": "execute_result"
    }
   ],
   "source": []
  },
  {
   "cell_type": "code",
   "execution_count": 31,
   "metadata": {},
   "outputs": [
    {
     "name": "stderr",
     "output_type": "stream",
     "text": [
      "\u001b[1;33m[WARNING]: \u001b[0m\u001b[0;39mCreating an ndarray from ragged nested sequences (which is a list-or-tuple of lists-or-tuples-or ndarrays with different lengths or shapes) is deprecated. If you meant to do this, you must specify 'dtype=object' when creating the ndarray.\u001b[0m \u001b[0;36m(VisibleDeprecationWarning)\u001b[0m\n"
     ]
    },
    {
     "data": {
      "text/plain": [
       "('11746-12704', 0.8626444159178434)"
      ]
     },
     "execution_count": 31,
     "metadata": {},
     "output_type": "execute_result"
    }
   ],
   "source": [
    "miss_l_3 = '11746-12704'\n",
    "result4 = Simpler_Classifier.quality_test(miss_l_3)\n",
    "result4"
   ]
  },
  {
   "cell_type": "code",
   "execution_count": 35,
   "metadata": {},
   "outputs": [],
   "source": [
    "plateifu_l.append(result3[0])\n",
    "snr_l.append(result3[1])"
   ]
  },
  {
   "cell_type": "code",
   "execution_count": 45,
   "metadata": {},
   "outputs": [],
   "source": [
    "snr_new = []\n",
    "for i in snr_l:\n",
    "    snr_new.append(float(i))"
   ]
  },
  {
   "cell_type": "code",
   "execution_count": 50,
   "metadata": {},
   "outputs": [],
   "source": [
    "c1 = fits.Column(name='plateifu', array=np.array(plateifu_l), format='20A')\n",
    "c2 = fits.Column(name='SNR', array=np.array(snr_new), format='E')\n",
    "t = fits.BinTableHDU.from_columns([c1, c2])\n",
    "t.writeto('DAPALL_SNR3.fits')"
   ]
  },
  {
   "cell_type": "code",
   "execution_count": 47,
   "metadata": {},
   "outputs": [],
   "source": [
    "def checkIfDuplicates_2(listOfElems):\n",
    "    ''' Check if given list contains any duplicates '''    \n",
    "    setOfElems = set()\n",
    "    for elem in listOfElems:\n",
    "        if elem in setOfElems:\n",
    "            return True\n",
    "        else:\n",
    "            setOfElems.add(elem)         \n",
    "    return False"
   ]
  },
  {
   "cell_type": "code",
   "execution_count": 48,
   "metadata": {},
   "outputs": [
    {
     "data": {
      "text/plain": [
       "False"
      ]
     },
     "execution_count": 48,
     "metadata": {},
     "output_type": "execute_result"
    }
   ],
   "source": [
    "checkIfDuplicates_2(plateifu_l)"
   ]
  },
  {
   "cell_type": "code",
   "execution_count": null,
   "metadata": {},
   "outputs": [],
   "source": []
  }
 ],
 "metadata": {
  "kernelspec": {
   "display_name": "Python 3",
   "language": "python",
   "name": "python3"
  },
  "language_info": {
   "codemirror_mode": {
    "name": "ipython",
    "version": 3
   },
   "file_extension": ".py",
   "mimetype": "text/x-python",
   "name": "python",
   "nbconvert_exporter": "python",
   "pygments_lexer": "ipython3",
   "version": "3.7.3"
  }
 },
 "nbformat": 4,
 "nbformat_minor": 2
}

{
 "cells": [
  {
   "cell_type": "code",
   "execution_count": 2,
   "metadata": {},
   "outputs": [],
   "source": [
    "import numpy as np\n",
    "from astropy.io import fits\n",
    "from marvin.tools import Maps\n",
    "import marvin.utils.plot.colorbar as colorbar\n",
    "from tqdm import tqdm\n",
    "import matplotlib.pyplot as plt\n",
    "#from matplotlib.colors import ListedColormap, LinearSegmentedColormap\n",
    "import scipy as scipy\n",
    "from scipy.fft import fft\n",
    "from scipy import ndimage\n",
    "\n",
    "import multiprocessing as mp\n",
    "from multiprocessing import Pool\n",
    "import copy\n",
    "\n",
    "import Simpler_Classifier\n",
    "\n",
    "from importlib import reload \n"
   ]
  },
  {
   "cell_type": "code",
   "execution_count": 3,
   "metadata": {},
   "outputs": [],
   "source": [
    "my_module = reload(Simpler_Classifier) # reload of Simpler_Classifier without restart"
   ]
  },
  {
   "cell_type": "code",
   "execution_count": null,
   "metadata": {},
   "outputs": [],
   "source": [
    "# New criteria:\n",
    "# N [ivar > 0, mask NE 1, S/N>3] / N [ivar>0, mask Ne 1] >0.1\n",
    "# Inclination > 60 -- through DAP topcat"
   ]
  },
  {
   "cell_type": "markdown",
   "metadata": {},
   "source": [
    "HEADER_PATH = '/Users/runquanguan/Documents/bicone_training_set.fits'\n",
    "hdul = fits.open(HEADER_PATH)\n",
    "hdu = hdul[1].data\n",
    "plateifu = hdu['PLATEIFU']\n"
   ]
  },
  {
   "cell_type": "code",
   "execution_count": 8,
   "metadata": {},
   "outputs": [
    {
     "name": "stderr",
     "output_type": "stream",
     "text": [
      "\u001b[1;33m[WARNING]: \u001b[0m\u001b[0;39munclosed file <_io.FileIO name='/Users/runquanguan/Documents/bicone_training_set.fits' mode='rb' closefd=True>\u001b[0m \u001b[0;36m(ResourceWarning)\u001b[0m\n"
     ]
    }
   ],
   "source": [
    "HEADER_PATH = '/Users/runquanguan/Documents/dapall_i_60.fits'\n",
    "hdul = fits.open(HEADER_PATH)\n",
    "hdu = hdul[1].data\n",
    "plateifu = hdu['PLATEIFU']\n"
   ]
  },
  {
   "cell_type": "code",
   "execution_count": null,
   "metadata": {},
   "outputs": [],
   "source": [
    "# good data:\n",
    "data_good = ['8083-3704','8311-12704','8602-6101','9892-3703','12089-3703','12491-3704']\n",
    "\n",
    "# bad data\n",
    "data_bad = ['7981-12702', '8135-12701', '8244-3704', '8312-9101', '8462-12705', '8596-9102']\n",
    "\n",
    "data = '7981-12702'"
   ]
  },
  {
   "cell_type": "markdown",
   "metadata": {},
   "source": [
    "for i in data_bad:\n",
    "    print(Simpler_Classifier.quality_test(i))"
   ]
  },
  {
   "cell_type": "markdown",
   "metadata": {},
   "source": [
    "for i in data_good:\n",
    "    print(Simpler_Classifier.quality_test(i))"
   ]
  },
  {
   "cell_type": "code",
   "execution_count": 10,
   "metadata": {},
   "outputs": [],
   "source": [
    "def shell(data):\n",
    "    try: \n",
    "        result = Simpler_Classifier.quality_test(data)\n",
    "        if result[1] >= 0.1:\n",
    "            return result[0]\n",
    "        else:\n",
    "            pass\n",
    "    except:\n",
    "        pass\n"
   ]
  },
  {
   "cell_type": "code",
   "execution_count": 11,
   "metadata": {},
   "outputs": [],
   "source": [
    "if __name__ == '__main__':\n",
    "    pool = mp.Pool(processes=6)\n",
    "\n",
    "    results = []\n",
    "    for result in pool.imap_unordered(shell, plateifu):\n",
    "        results.append(result)\n",
    "    \n",
    "    pool.close()\n",
    "    pool.join() \n",
    "    #print(results)"
   ]
  },
  {
   "cell_type": "code",
   "execution_count": 12,
   "metadata": {},
   "outputs": [],
   "source": [
    "result_copy = copy.deepcopy(results)"
   ]
  },
  {
   "cell_type": "code",
   "execution_count": 13,
   "metadata": {},
   "outputs": [
    {
     "data": {
      "text/plain": [
       "3003"
      ]
     },
     "execution_count": 13,
     "metadata": {},
     "output_type": "execute_result"
    }
   ],
   "source": [
    "clean = []\n",
    "for i in result_copy:\n",
    "    if i != None:\n",
    "        clean.append(i)\n",
    "len(clean)"
   ]
  },
  {
   "cell_type": "code",
   "execution_count": 14,
   "metadata": {},
   "outputs": [],
   "source": [
    "c1 = fits.Column(name='plateifu', array=np.array(clean), format='20A')\n",
    "t = fits.BinTableHDU.from_columns([c1])\n",
    "t.writeto('dapall_i_60_sn3_01.fits')"
   ]
  },
  {
   "cell_type": "code",
   "execution_count": 21,
   "metadata": {},
   "outputs": [
    {
     "data": {
      "text/plain": [
       "0"
      ]
     },
     "execution_count": 21,
     "metadata": {},
     "output_type": "execute_result"
    }
   ],
   "source": [
    "False * True"
   ]
  }
 ],
 "metadata": {
  "kernelspec": {
   "display_name": "Python 3",
   "language": "python",
   "name": "python3"
  },
  "language_info": {
   "codemirror_mode": {
    "name": "ipython",
    "version": 3
   },
   "file_extension": ".py",
   "mimetype": "text/x-python",
   "name": "python",
   "nbconvert_exporter": "python",
   "pygments_lexer": "ipython3",
   "version": "3.7.3"
  }
 },
 "nbformat": 4,
 "nbformat_minor": 2
}
